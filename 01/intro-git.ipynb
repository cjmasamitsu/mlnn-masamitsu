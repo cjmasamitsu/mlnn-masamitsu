{
 "cells": [
  {
   "cell_type": "markdown",
   "metadata": {},
   "source": [
    "# Introduction to Git"
   ]
  },
  {
   "cell_type": "markdown",
   "metadata": {},
   "source": [
    "### Why Git"
   ]
  },
  {
   "cell_type": "markdown",
   "metadata": {},
   "source": [
    "Keeping track of file versions is hard."
   ]
  },
  {
   "cell_type": "markdown",
   "metadata": {},
   "source": [
    "![](http://petapixel.com/assets/uploads/2015/07/psdrevisioning.jpg)"
   ]
  },
  {
   "cell_type": "markdown",
   "metadata": {},
   "source": [
    "### What is Git?\n",
    "\n",
    "#### So what is Git, and why does it help us?\n",
    "Above all else, Git is a fast version control system, that allows you to efficiently handle projects large and small.\n",
    "\n",
    "Here are some problems we face as developers, and how git solves them:\n",
    "\n",
    "#### Reverting to past versions\n",
    "\n",
    "Git allows us to make save points at any time. These save points are called\n",
    "'commits'. Once a save point is made, it's permanent, and allows us to go back\n",
    "to that save point at any time.\n",
    "<!-- From there, we can see what the code looked like at that point, or even start building off that version. -->\n",
    "\n",
    "#### Keeping track of what each version 'meant'\n",
    "\n",
    "Every commit has a description (commit message), which allows us to describe\n",
    "what changes were made between the current and previous commit. This is usually a description of what features\n",
    "were added or what bugs were fixed.\n",
    "\n",
    "Additionally, git supports tagging, which allows us to mark a specific commit\n",
    "as a specific version of our code (e.g. '2.4.5').\n",
    "\n",
    "#### Comparing changes to past versions\n",
    "\n",
    "It's often important to see content of the actual changes that were made. This\n",
    "can be useful when:\n",
    "* tracking down when and how a bug was introduced\n",
    "* understanding the changes a team member made so you can stay up-to-date with progress\n",
    "* reviewing code as a team for correctness or quality/style\n",
    "\n",
    "Git allows us to easily see these changes (called a `diff`) for any given commit.\n",
    "\n",
    "#### Fearlessness in making changes\n",
    "\n",
    "In developing software, we often want to experiment in adding a feature or\n",
    "refactoring (rewriting) existing code. Because git makes it easy to go back to a\n",
    "known good state, we can experiment without worrying that we'll be unable to\n",
    "undo the experimental work.\n",
    "\n",
    "#### Three components of a git repository\n",
    "\n",
    "![](https://raw.githubusercontent.com/ga-wdi-lessons/git-intro/master/git-local.jpg)\n",
    "[Claymation](https://en.wikipedia.org/wiki/Clay_animation), [Wallace & Gromit](https://en.wikipedia.org/wiki/Wallace_and_Gromit)\n",
    "\n",
    "1. The working directory\n",
    "  - `git init` creates a git repo inside current working directory\n",
    "  - `git init nameofrepo` creates a new folder and a git repo inside that\n",
    "  - `git status`\n",
    "2. The staging area\n",
    "  - `git add .` adds changes from the working directory to the staging area\n",
    "  - `git add <filename>` adds changes to filenames specified from the working directory to the staging area\n",
    "3. The repo or commit\n",
    "  - `git commit -m \"commit message\"` adds changes in staging area to the repository\n",
    "  - `git log` shows\n",
    "\n",
    "### Intro to GitHub\n",
    "\n",
    "GitHub is a social network that allows developers to host remote repositories. A remote repository is\n",
    "a publicly (sometimes privately) accessible copy of a local repository.\n",
    "\n",
    "#### Key Terms\n",
    "\n",
    "![](https://raw.githubusercontent.com/ga-wdi-lessons/git-intro/master/git06.jpg)\n",
    "\n",
    "* **remote** - another repository that can be syncronized with a remote\n",
    "* **upstream** - the name for a remote read-only repository\n",
    "* **origin** - the name for a remote read-and-write repository\n",
    "* **github** - a service that hosts git remote repositories, and provides a web app to interact / collaborate on them\n",
    "* **fork** - make a copy of a remote repo on github.\n",
    "* **clone**  - download an entire remote repository, to be used as a local repository\n",
    "* **fetch**  - downloading the set of changes (commits) from a remote repository\n",
    "* **merge**  - taking two histories (commits),\n",
    "* **pull**   - fetching changes and merging them into the current branch\n",
    "* **push**   - sending changes to a remote repository and merging them into the specified branch\n",
    "* **pull request** - ask the upstream maintainer to pull in changes from origin.\n",
    "* **merge conflict** - when two commits conflict, and thus can't be merged automatically."
   ]
  },
  {
   "cell_type": "markdown",
   "metadata": {},
   "source": [
    "## We Do\n",
    "1. Generate ssh keys by following these instructions: https://help.github.com/articles/generating-an-ssh-key/\n",
    "2. Let's work through this step by step Git tutorial: http://gitref.org/"
   ]
  },
  {
   "cell_type": "markdown",
   "metadata": {},
   "source": [
    "## You Do (Exercise)\n",
    "\n",
    "Replace _yourusername_ below with your username when running commands.\n",
    "\n",
    "1. Go to your Github profile (github.com/yourusername) and create a new repository called `test-repo` by clicking on the plus sign on the top right.\n",
    "2. Now you should have a new repository at https://github.com/yourusername/test-repo.\n",
    "3. Clone the repository using the **SSH** link not the HTTPS link. The command looks like this:\n",
    "\n",
    "   ```\n",
    "   git clone git@github.com:yourusername/test-repo.git\n",
    "   ```\n",
    "   \n",
    "   It will say \"You appear to have cloned an empty repository.\"\n",
    "\n",
    "4. Add a blank file to the repository using the `touch` command. Be sure that you're current working directory (`pwd`) is the repository `test-repo`.\n",
    "\n",
    "   ```\n",
    "   touch README.md\n",
    "   ```\n",
    "   \n",
    "5. Edit README.md using your favorite text editor (mine is Sublime Text 3) and add one line with the text, \"Hello GA\".\n",
    "6. Run `git status` to view the changes. You will see one new \"Untracked File\".\n",
    "7. Run `git add README.md` followed by `git status`. You will see \"Changes to be committed\" and on the next line \"new file:   README.md\".\n",
    "8. Run `git commit -m \"initial commit\"` followed by `git push` and `git status`. You will see \"Your branch is up-to-date with 'origin/master'.\"\n",
    "9. Run `git remote -v` to see what \"origin\" is defined as.\n",
    "10. Navigate to the git repository's url on github: github.com/yourusername/test-repo to see your changes.\n",
    "11. Edit \"README.md\" in your favorite text editor to add a new line, \"Goodbye GA\". You will see \"Changes not staged for commit\".\n",
    "12. Run `git add README.md` and `git status`.\n",
    "13. Run `git commit -m \"my second commit\"` followed by `git status` and then `git push`.\n",
    "14. Observe the changes online once again. Look at the diff for your last commit."
   ]
  },
  {
   "cell_type": "markdown",
   "metadata": {},
   "source": [
    "- Reference of Git Commands: http://www.dataschool.io/git-quick-reference-for-beginners/\n",
    "- Excellent book if you want to read about git in more detail: https://git-scm.com/book/en/v2"
   ]
  }
 ],
 "metadata": {
  "kernelspec": {
   "display_name": "Python 3",
   "language": "python",
   "name": "python3"
  },
  "language_info": {
   "codemirror_mode": {
    "name": "ipython",
    "version": 3
   },
   "file_extension": ".py",
   "mimetype": "text/x-python",
   "name": "python",
   "nbconvert_exporter": "python",
   "pygments_lexer": "ipython3",
   "version": "3.5.1"
  }
 },
 "nbformat": 4,
 "nbformat_minor": 0
}
