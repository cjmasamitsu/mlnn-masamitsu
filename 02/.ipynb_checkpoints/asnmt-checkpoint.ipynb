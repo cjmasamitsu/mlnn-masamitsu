{
 "cells": [
  {
   "cell_type": "code",
   "execution_count": 326,
   "metadata": {},
   "outputs": [],
   "source": [
    "import numpy as np\n",
    "import pandas as pd\n",
    "import scipy as sp"
   ]
  },
  {
   "cell_type": "code",
   "execution_count": 327,
   "metadata": {},
   "outputs": [],
   "source": [
    "%matplotlib inline\n",
    "import matplotlib.pyplot as plt\n",
    "plt.style.use('ggplot')"
   ]
  },
  {
   "cell_type": "code",
   "execution_count": 328,
   "metadata": {},
   "outputs": [
    {
     "name": "stdout",
     "output_type": "stream",
     "text": [
      "Overwriting hw_data.csv\n"
     ]
    }
   ],
   "source": [
    "%%file hw_data.csv\n",
    "id,sex,weight,height\n",
    "1,M,190,77\n",
    "2,F,120,70\n",
    "3,F,110,68\n",
    "4,M,150,72\n",
    "5,O,120,66\n",
    "6,M,120,60\n",
    "7,F,140,70"
   ]
  },
  {
   "cell_type": "markdown",
   "metadata": {},
   "source": [
    "# Python"
   ]
  },
  {
   "cell_type": "markdown",
   "metadata": {},
   "source": [
    "## 1. Finish creating the following function that takes a list and returns the average value."
   ]
  },
  {
   "cell_type": "code",
   "execution_count": 329,
   "metadata": {},
   "outputs": [
    {
     "data": {
      "text/plain": [
       "3.375"
      ]
     },
     "execution_count": 329,
     "metadata": {},
     "output_type": "execute_result"
    }
   ],
   "source": [
    "def average(my_list):\n",
    "    x = sum(my_list) / len(my_list)\n",
    "    return x\n",
    "\n",
    "average([1,2,1,4,3,2,5,9])"
   ]
  },
  {
   "cell_type": "markdown",
   "metadata": {},
   "source": [
    "## 2. Using a Dictionary keep track of the count of numbers (or items) from a list"
   ]
  },
  {
   "cell_type": "code",
   "execution_count": 330,
   "metadata": {},
   "outputs": [
    {
     "data": {
      "text/plain": [
       "{1: 2, 2: 2, 4: 1, 3: 1, 5: 1, 9: 1}"
      ]
     },
     "execution_count": 330,
     "metadata": {},
     "output_type": "execute_result"
    }
   ],
   "source": [
    "def counts(my_list):\n",
    "    counts = dict()\n",
    "    for i in my_list:\n",
    "        counts[i] = counts.get(i, 0) + 1\n",
    "        \n",
    "    return counts\n",
    "\n",
    "counts([1,2,1,4,3,2,5,9])    "
   ]
  },
  {
   "cell_type": "markdown",
   "metadata": {},
   "source": [
    "## 3.  Using the `counts()` function and the `.split()` function, return a dictionary of most occuring words from the following paragraph. Bonus, remove punctuation from words."
   ]
  },
  {
   "cell_type": "code",
   "execution_count": 331,
   "metadata": {},
   "outputs": [],
   "source": [
    "paragraph_text = '''\n",
    "For a minute or two she stood looking at the house, and wondering what to do next, when suddenly a footman in livery came running out of the wood—(she considered him to be a footman because he was in livery: otherwise, judging by his face only, she would have called him a fish)—and rapped loudly at the door with his knuckles. It was opened by another footman in livery, with a round face, and large eyes like a frog; and both footmen, Alice noticed, had powdered hair that curled all over their heads. She felt very curious to know what it was all about, and crept a little way out of the wood to listen.\n",
    "The Fish-Footman began by producing from under his arm a great letter, nearly as large as himself, and this he handed over to the other, saying, in a solemn tone, ‘For the Duchess. An invitation from the Queen to play croquet.’ The Frog-Footman repeated, in the same solemn tone, only changing the order of the words a little, ‘From the Queen. An invitation for the Duchess to play croquet.’\n",
    "Then they both bowed low, and their curls got entangled together.\n",
    "Alice laughed so much at this, that she had to run back into the wood for fear of their hearing her; and when she next peeped out the Fish-Footman was gone, and the other was sitting on the ground near the door, staring stupidly up into the sky.\n",
    "Alice went timidly up to the door, and knocked.\n",
    "‘There’s no sort of use in knocking,’ said the Footman, ‘and that for two reasons. First, because I’m on the same side of the door as you are; secondly, because they’re making such a noise inside, no one could possibly hear you.’ And certainly there was a most extraordinary noise going on within—a constant howling and sneezing, and every now and then a great crash, as if a dish or kettle had been broken to pieces.\n",
    "‘Please, then,’ said Alice, ‘how am I to get in?’\n",
    "‘There might be some sense in your knocking,’ the Footman went on without attending to her, ‘if we had the door between us. For instance, if you were inside, you might knock, and I could let you out, you know.’ He was looking up into the sky all the time he was speaking, and this Alice thought decidedly uncivil. ‘But perhaps he can’t help it,’ she said to herself; ‘his eyes are so very nearly at the top of his head. But at any rate he might answer questions.—How am I to get in?’ she repeated, aloud.\n",
    "‘I shall sit here,’ the Footman remarked, ‘till tomorrow—’\n",
    "At this moment the door of the house opened, and a large plate came skimming out, straight at the Footman’s head: it just grazed his nose, and broke to pieces against one of the trees behind him.'''\n",
    "\n"
   ]
  },
  {
   "cell_type": "code",
   "execution_count": 332,
   "metadata": {},
   "outputs": [
    {
     "data": {
      "text/plain": [
       "[('the', 32),\n",
       " ('and', 16),\n",
       " ('a', 15),\n",
       " ('to', 15),\n",
       " ('of', 9),\n",
       " ('was', 8),\n",
       " ('in', 7),\n",
       " ('she', 6),\n",
       " ('at', 6),\n",
       " ('door', 6),\n",
       " ('out', 5),\n",
       " ('he', 5),\n",
       " ('his', 5),\n",
       " ('Alice', 5),\n",
       " ('you', 5),\n",
       " ('had', 4),\n",
       " ('as', 4),\n",
       " ('this', 4),\n",
       " ('on', 4),\n",
       " ('footman', 3),\n",
       " ('livery', 3),\n",
       " ('him', 3),\n",
       " ('because', 3),\n",
       " ('by', 3),\n",
       " ('large', 3),\n",
       " ('that', 3),\n",
       " ('all', 3),\n",
       " ('their', 3),\n",
       " ('for', 3),\n",
       " ('into', 3),\n",
       " ('up', 3),\n",
       " ('said', 3),\n",
       " ('Footman', 3),\n",
       " ('I', 3),\n",
       " ('might', 3),\n",
       " ('For', 2),\n",
       " ('or', 2),\n",
       " ('two', 2),\n",
       " ('looking', 2),\n",
       " ('house', 2),\n",
       " ('what', 2),\n",
       " ('next', 2),\n",
       " ('when', 2),\n",
       " ('came', 2),\n",
       " ('be', 2),\n",
       " ('face', 2),\n",
       " ('only', 2),\n",
       " ('with', 2),\n",
       " ('opened', 2),\n",
       " ('eyes', 2),\n",
       " ('both', 2),\n",
       " ('over', 2),\n",
       " ('very', 2),\n",
       " ('it', 2),\n",
       " ('little', 2),\n",
       " ('wood', 2),\n",
       " ('The', 2),\n",
       " ('FishFootman', 2),\n",
       " ('from', 2),\n",
       " ('great', 2),\n",
       " ('nearly', 2),\n",
       " ('other', 2),\n",
       " ('solemn', 2),\n",
       " ('tone', 2),\n",
       " ('Duchess', 2),\n",
       " ('An', 2),\n",
       " ('invitation', 2),\n",
       " ('Queen', 2),\n",
       " ('play', 2),\n",
       " ('croquet’', 2),\n",
       " ('repeated', 2),\n",
       " ('same', 2),\n",
       " ('so', 2),\n",
       " ('her', 2),\n",
       " ('sky', 2),\n",
       " ('went', 2),\n",
       " ('no', 2),\n",
       " ('knocking’', 2),\n",
       " ('are', 2),\n",
       " ('noise', 2),\n",
       " ('inside', 2),\n",
       " ('one', 2),\n",
       " ('could', 2),\n",
       " ('if', 2),\n",
       " ('pieces', 2),\n",
       " ('am', 2),\n",
       " ('get', 2),\n",
       " ('in’', 2),\n",
       " ('head', 2),\n",
       " ('minute', 1),\n",
       " ('stood', 1),\n",
       " ('wondering', 1),\n",
       " ('do', 1),\n",
       " ('suddenly', 1),\n",
       " ('running', 1),\n",
       " ('wood—she', 1),\n",
       " ('considered', 1),\n",
       " ('otherwise', 1),\n",
       " ('judging', 1),\n",
       " ('would', 1),\n",
       " ('have', 1),\n",
       " ('called', 1),\n",
       " ('fish—and', 1),\n",
       " ('rapped', 1),\n",
       " ('loudly', 1),\n",
       " ('knuckles', 1),\n",
       " ('It', 1),\n",
       " ('another', 1),\n",
       " ('round', 1),\n",
       " ('like', 1),\n",
       " ('frog', 1),\n",
       " ('footmen', 1),\n",
       " ('noticed', 1),\n",
       " ('powdered', 1),\n",
       " ('hair', 1),\n",
       " ('curled', 1),\n",
       " ('heads', 1),\n",
       " ('She', 1),\n",
       " ('felt', 1),\n",
       " ('curious', 1),\n",
       " ('know', 1),\n",
       " ('about', 1),\n",
       " ('crept', 1),\n",
       " ('way', 1),\n",
       " ('listen', 1),\n",
       " ('began', 1),\n",
       " ('producing', 1),\n",
       " ('under', 1),\n",
       " ('arm', 1),\n",
       " ('letter', 1),\n",
       " ('himself', 1),\n",
       " ('handed', 1),\n",
       " ('saying', 1),\n",
       " ('‘For', 1),\n",
       " ('FrogFootman', 1),\n",
       " ('changing', 1),\n",
       " ('order', 1),\n",
       " ('words', 1),\n",
       " ('‘From', 1),\n",
       " ('Then', 1),\n",
       " ('they', 1),\n",
       " ('bowed', 1),\n",
       " ('low', 1),\n",
       " ('curls', 1),\n",
       " ('got', 1),\n",
       " ('entangled', 1),\n",
       " ('together', 1),\n",
       " ('laughed', 1),\n",
       " ('much', 1),\n",
       " ('run', 1),\n",
       " ('back', 1),\n",
       " ('fear', 1),\n",
       " ('hearing', 1),\n",
       " ('peeped', 1),\n",
       " ('gone', 1),\n",
       " ('sitting', 1),\n",
       " ('ground', 1),\n",
       " ('near', 1),\n",
       " ('staring', 1),\n",
       " ('stupidly', 1),\n",
       " ('timidly', 1),\n",
       " ('knocked', 1),\n",
       " ('‘There’s', 1),\n",
       " ('sort', 1),\n",
       " ('use', 1),\n",
       " ('‘and', 1),\n",
       " ('reasons', 1),\n",
       " ('First', 1),\n",
       " ('I’m', 1),\n",
       " ('side', 1),\n",
       " ('secondly', 1),\n",
       " ('they’re', 1),\n",
       " ('making', 1),\n",
       " ('such', 1),\n",
       " ('possibly', 1),\n",
       " ('hear', 1),\n",
       " ('you’', 1),\n",
       " ('And', 1),\n",
       " ('certainly', 1),\n",
       " ('there', 1),\n",
       " ('most', 1),\n",
       " ('extraordinary', 1),\n",
       " ('going', 1),\n",
       " ('within—a', 1),\n",
       " ('constant', 1),\n",
       " ('howling', 1),\n",
       " ('sneezing', 1),\n",
       " ('every', 1),\n",
       " ('now', 1),\n",
       " ('then', 1),\n",
       " ('crash', 1),\n",
       " ('dish', 1),\n",
       " ('kettle', 1),\n",
       " ('been', 1),\n",
       " ('broken', 1),\n",
       " ('‘Please', 1),\n",
       " ('then’', 1),\n",
       " ('‘how', 1),\n",
       " ('‘There', 1),\n",
       " ('some', 1),\n",
       " ('sense', 1),\n",
       " ('your', 1),\n",
       " ('without', 1),\n",
       " ('attending', 1),\n",
       " ('‘if', 1),\n",
       " ('we', 1),\n",
       " ('between', 1),\n",
       " ('us', 1),\n",
       " ('instance', 1),\n",
       " ('were', 1),\n",
       " ('knock', 1),\n",
       " ('let', 1),\n",
       " ('know’', 1),\n",
       " ('He', 1),\n",
       " ('time', 1),\n",
       " ('speaking', 1),\n",
       " ('thought', 1),\n",
       " ('decidedly', 1),\n",
       " ('uncivil', 1),\n",
       " ('‘But', 1),\n",
       " ('perhaps', 1),\n",
       " ('can’t', 1),\n",
       " ('help', 1),\n",
       " ('it’', 1),\n",
       " ('herself', 1),\n",
       " ('‘his', 1),\n",
       " ('top', 1),\n",
       " ('But', 1),\n",
       " ('any', 1),\n",
       " ('rate', 1),\n",
       " ('answer', 1),\n",
       " ('questions—How', 1),\n",
       " ('aloud', 1),\n",
       " ('‘I', 1),\n",
       " ('shall', 1),\n",
       " ('sit', 1),\n",
       " ('here’', 1),\n",
       " ('remarked', 1),\n",
       " ('‘till', 1),\n",
       " ('tomorrow—’', 1),\n",
       " ('At', 1),\n",
       " ('moment', 1),\n",
       " ('plate', 1),\n",
       " ('skimming', 1),\n",
       " ('straight', 1),\n",
       " ('Footman’s', 1),\n",
       " ('just', 1),\n",
       " ('grazed', 1),\n",
       " ('nose', 1),\n",
       " ('broke', 1),\n",
       " ('against', 1),\n",
       " ('trees', 1),\n",
       " ('behind', 1)]"
      ]
     },
     "execution_count": 332,
     "metadata": {},
     "output_type": "execute_result"
    }
   ],
   "source": [
    "punc = '''!()-[]{};:'\"\\,<>./?@#$%^&*_~'''\n",
    "\n",
    "for ele in paragraph_text:\n",
    "    if ele in punc:\n",
    "        paragraph_text = paragraph_text.replace(ele, \"\")\n",
    "        \n",
    "tot = counts(paragraph_text.split())\n",
    "sorted(tot.items(), key = lambda x: x[1], reverse = True)\n",
    "        "
   ]
  },
  {
   "cell_type": "markdown",
   "metadata": {},
   "source": [
    "## 4. Read in a file and write each line from the file to a new file Title-ized\n",
    "\n",
    "`This is the first line` ->  `This Is The First Line`\n",
    "\n",
    "Hint: There's a function to do this"
   ]
  },
  {
   "cell_type": "code",
   "execution_count": 333,
   "metadata": {},
   "outputs": [
    {
     "data": {
      "text/plain": [
       "'Here Is A Bunch Of Sample Text. Yay For Sample Text!'"
      ]
     },
     "execution_count": 333,
     "metadata": {},
     "output_type": "execute_result"
    }
   ],
   "source": [
    "f = open(\"sample_text.txt\", \"r\")\n",
    "text = f.read()\n",
    "text = text.title()\n",
    "text"
   ]
  },
  {
   "cell_type": "code",
   "execution_count": 334,
   "metadata": {},
   "outputs": [],
   "source": [
    "new = open(\"title-ized-text.txt\", \"w\")\n",
    "new.writelines(text)"
   ]
  },
  {
   "cell_type": "markdown",
   "metadata": {},
   "source": [
    "# Numpy"
   ]
  },
  {
   "cell_type": "markdown",
   "metadata": {},
   "source": [
    "## 1. Given a list, find the average using a numpy function. "
   ]
  },
  {
   "cell_type": "code",
   "execution_count": 335,
   "metadata": {},
   "outputs": [
    {
     "data": {
      "text/plain": [
       "3.375"
      ]
     },
     "execution_count": 335,
     "metadata": {},
     "output_type": "execute_result"
    }
   ],
   "source": [
    "simple_list = [1,2,1,4,3,2,5,9]\n",
    "\n",
    "np.mean(simple_list)"
   ]
  },
  {
   "cell_type": "markdown",
   "metadata": {},
   "source": [
    "## 2. Given two lists of Heights and Weights of individual, calculate the BMI of those individuals, without writing a `for-loop`"
   ]
  },
  {
   "cell_type": "code",
   "execution_count": 336,
   "metadata": {},
   "outputs": [
    {
     "data": {
      "text/plain": [
       "array([2.04, 1.95, 2.16, 1.7 , 1.85])"
      ]
     },
     "execution_count": 336,
     "metadata": {},
     "output_type": "execute_result"
    }
   ],
   "source": [
    "heights = [174, 173, 173, 175, 171]\n",
    "weights = [88, 83, 92, 74, 77]\n",
    "\n",
    "# Imperial BMI calculation\n",
    "sq_heights = np.square(heights)\n",
    "new_weights = np.array(weights)\n",
    "new_weights = new_weights * 703\n",
    "new_weights / sq_heights"
   ]
  },
  {
   "cell_type": "code",
   "execution_count": 337,
   "metadata": {},
   "outputs": [
    {
     "data": {
      "text/plain": [
       "array([0.29, 0.28, 0.31, 0.24, 0.26])"
      ]
     },
     "execution_count": 337,
     "metadata": {},
     "output_type": "execute_result"
    }
   ],
   "source": [
    "# Metric BMI calculation (makes more sense based on the weight, but not height... probably in cm?)\n",
    "# I assume the numbers are in centimeters, so I multipled by 100 to convert the cm to meters for the proper BMI calculation \n",
    "100 * (weights / sq_heights)"
   ]
  },
  {
   "cell_type": "markdown",
   "metadata": {},
   "source": [
    "## 3. Create an array of length 20 filled with random values (between 0 to 1) "
   ]
  },
  {
   "cell_type": "code",
   "execution_count": 338,
   "metadata": {},
   "outputs": [
    {
     "data": {
      "text/plain": [
       "array([[0.83],\n",
       "       [0.4 ],\n",
       "       [0.99],\n",
       "       [0.32],\n",
       "       [0.37],\n",
       "       [0.29],\n",
       "       [0.07],\n",
       "       [0.56],\n",
       "       [0.54],\n",
       "       [0.79],\n",
       "       [0.14],\n",
       "       [0.69],\n",
       "       [0.75],\n",
       "       [0.42],\n",
       "       [0.14],\n",
       "       [0.52],\n",
       "       [0.78],\n",
       "       [0.77],\n",
       "       [0.36],\n",
       "       [0.96]])"
      ]
     },
     "execution_count": 338,
     "metadata": {},
     "output_type": "execute_result"
    }
   ],
   "source": [
    "array = np.random.rand(20,1)\n",
    "array"
   ]
  },
  {
   "cell_type": "code",
   "execution_count": 339,
   "metadata": {},
   "outputs": [
    {
     "data": {
      "text/plain": [
       "20"
      ]
     },
     "execution_count": 339,
     "metadata": {},
     "output_type": "execute_result"
    }
   ],
   "source": [
    "len(array)"
   ]
  },
  {
   "cell_type": "markdown",
   "metadata": {},
   "source": [
    "## Bonus. 1. Create an array with a large (>1000) length filled with random numbers from different distributions (normal, uniform, etc.). 2. Then, plot a histogram of these values. "
   ]
  },
  {
   "cell_type": "code",
   "execution_count": 340,
   "metadata": {},
   "outputs": [],
   "source": [
    "# n/a"
   ]
  },
  {
   "cell_type": "markdown",
   "metadata": {},
   "source": [
    "# Pandas"
   ]
  },
  {
   "cell_type": "markdown",
   "metadata": {},
   "source": [
    "## 1. Read in a CSV () and display all the columns and their respective data types "
   ]
  },
  {
   "cell_type": "code",
   "execution_count": 341,
   "metadata": {},
   "outputs": [
    {
     "data": {
      "text/html": [
       "<div>\n",
       "<style scoped>\n",
       "    .dataframe tbody tr th:only-of-type {\n",
       "        vertical-align: middle;\n",
       "    }\n",
       "\n",
       "    .dataframe tbody tr th {\n",
       "        vertical-align: top;\n",
       "    }\n",
       "\n",
       "    .dataframe thead th {\n",
       "        text-align: right;\n",
       "    }\n",
       "</style>\n",
       "<table border=\"1\" class=\"dataframe\">\n",
       "  <thead>\n",
       "    <tr style=\"text-align: right;\">\n",
       "      <th></th>\n",
       "      <th>id</th>\n",
       "      <th>sex</th>\n",
       "      <th>weight</th>\n",
       "      <th>height</th>\n",
       "    </tr>\n",
       "  </thead>\n",
       "  <tbody>\n",
       "    <tr>\n",
       "      <th>0</th>\n",
       "      <td>1</td>\n",
       "      <td>M</td>\n",
       "      <td>190</td>\n",
       "      <td>77</td>\n",
       "    </tr>\n",
       "    <tr>\n",
       "      <th>1</th>\n",
       "      <td>2</td>\n",
       "      <td>F</td>\n",
       "      <td>120</td>\n",
       "      <td>70</td>\n",
       "    </tr>\n",
       "    <tr>\n",
       "      <th>2</th>\n",
       "      <td>3</td>\n",
       "      <td>F</td>\n",
       "      <td>110</td>\n",
       "      <td>68</td>\n",
       "    </tr>\n",
       "    <tr>\n",
       "      <th>3</th>\n",
       "      <td>4</td>\n",
       "      <td>M</td>\n",
       "      <td>150</td>\n",
       "      <td>72</td>\n",
       "    </tr>\n",
       "    <tr>\n",
       "      <th>4</th>\n",
       "      <td>5</td>\n",
       "      <td>O</td>\n",
       "      <td>120</td>\n",
       "      <td>66</td>\n",
       "    </tr>\n",
       "    <tr>\n",
       "      <th>5</th>\n",
       "      <td>6</td>\n",
       "      <td>M</td>\n",
       "      <td>120</td>\n",
       "      <td>60</td>\n",
       "    </tr>\n",
       "    <tr>\n",
       "      <th>6</th>\n",
       "      <td>7</td>\n",
       "      <td>F</td>\n",
       "      <td>140</td>\n",
       "      <td>70</td>\n",
       "    </tr>\n",
       "  </tbody>\n",
       "</table>\n",
       "</div>"
      ],
      "text/plain": [
       "   id sex  weight  height\n",
       "0   1   M     190      77\n",
       "1   2   F     120      70\n",
       "2   3   F     110      68\n",
       "3   4   M     150      72\n",
       "4   5   O     120      66\n",
       "5   6   M     120      60\n",
       "6   7   F     140      70"
      ]
     },
     "execution_count": 341,
     "metadata": {},
     "output_type": "execute_result"
    }
   ],
   "source": [
    "data = pd.read_csv(\"hw_data.csv\")\n",
    "data"
   ]
  },
  {
   "cell_type": "markdown",
   "metadata": {},
   "source": [
    "## 2. Find the average weight "
   ]
  },
  {
   "cell_type": "code",
   "execution_count": 342,
   "metadata": {},
   "outputs": [
    {
     "data": {
      "text/plain": [
       "135.71428571428572"
      ]
     },
     "execution_count": 342,
     "metadata": {},
     "output_type": "execute_result"
    }
   ],
   "source": [
    "weight = data[\"weight\"]\n",
    "np.mean(weight)"
   ]
  },
  {
   "cell_type": "markdown",
   "metadata": {},
   "source": [
    "## 3. Find the Value Counts on column `sex` "
   ]
  },
  {
   "cell_type": "code",
   "execution_count": 343,
   "metadata": {},
   "outputs": [
    {
     "data": {
      "text/plain": [
       "M    3\n",
       "F    3\n",
       "O    1\n",
       "Name: sex, dtype: int64"
      ]
     },
     "execution_count": 343,
     "metadata": {},
     "output_type": "execute_result"
    }
   ],
   "source": [
    "sex = data[\"sex\"]\n",
    "pd.value_counts(sex)"
   ]
  },
  {
   "cell_type": "markdown",
   "metadata": {},
   "source": [
    "## 4. Plot Height vs. Weight "
   ]
  },
  {
   "cell_type": "code",
   "execution_count": 344,
   "metadata": {},
   "outputs": [
    {
     "data": {
      "text/plain": [
       "<AxesSubplot:xlabel='height'>"
      ]
     },
     "execution_count": 344,
     "metadata": {},
     "output_type": "execute_result"
    },
    {
     "data": {
      "image/png": "[encoded data removed]",
      "text/plain": [
       "<Figure size 432x288 with 1 Axes>"
      ]
     },
     "metadata": {},
     "output_type": "display_data"
    }
   ],
   "source": [
    "height = data[\"height\"]\n",
    "data.plot(x = \"height\", y = \"weight\", style = \"o\")"
   ]
  },
  {
   "cell_type": "markdown",
   "metadata": {},
   "source": [
    "## 5. Calculate BMI and save as a new column"
   ]
  },
  {
   "cell_type": "code",
   "execution_count": 345,
   "metadata": {},
   "outputs": [
    {
     "data": {
      "text/html": [
       "<div>\n",
       "<style scoped>\n",
       "    .dataframe tbody tr th:only-of-type {\n",
       "        vertical-align: middle;\n",
       "    }\n",
       "\n",
       "    .dataframe tbody tr th {\n",
       "        vertical-align: top;\n",
       "    }\n",
       "\n",
       "    .dataframe thead th {\n",
       "        text-align: right;\n",
       "    }\n",
       "</style>\n",
       "<table border=\"1\" class=\"dataframe\">\n",
       "  <thead>\n",
       "    <tr style=\"text-align: right;\">\n",
       "      <th></th>\n",
       "      <th>id</th>\n",
       "      <th>sex</th>\n",
       "      <th>weight</th>\n",
       "      <th>height</th>\n",
       "      <th>bmi</th>\n",
       "    </tr>\n",
       "  </thead>\n",
       "  <tbody>\n",
       "    <tr>\n",
       "      <th>0</th>\n",
       "      <td>1</td>\n",
       "      <td>M</td>\n",
       "      <td>190</td>\n",
       "      <td>77</td>\n",
       "      <td>22.528251</td>\n",
       "    </tr>\n",
       "    <tr>\n",
       "      <th>1</th>\n",
       "      <td>2</td>\n",
       "      <td>F</td>\n",
       "      <td>120</td>\n",
       "      <td>70</td>\n",
       "      <td>17.216327</td>\n",
       "    </tr>\n",
       "    <tr>\n",
       "      <th>2</th>\n",
       "      <td>3</td>\n",
       "      <td>F</td>\n",
       "      <td>110</td>\n",
       "      <td>68</td>\n",
       "      <td>16.723616</td>\n",
       "    </tr>\n",
       "    <tr>\n",
       "      <th>3</th>\n",
       "      <td>4</td>\n",
       "      <td>M</td>\n",
       "      <td>150</td>\n",
       "      <td>72</td>\n",
       "      <td>20.341435</td>\n",
       "    </tr>\n",
       "    <tr>\n",
       "      <th>4</th>\n",
       "      <td>5</td>\n",
       "      <td>O</td>\n",
       "      <td>120</td>\n",
       "      <td>66</td>\n",
       "      <td>19.366391</td>\n",
       "    </tr>\n",
       "    <tr>\n",
       "      <th>5</th>\n",
       "      <td>6</td>\n",
       "      <td>M</td>\n",
       "      <td>120</td>\n",
       "      <td>60</td>\n",
       "      <td>23.433333</td>\n",
       "    </tr>\n",
       "    <tr>\n",
       "      <th>6</th>\n",
       "      <td>7</td>\n",
       "      <td>F</td>\n",
       "      <td>140</td>\n",
       "      <td>70</td>\n",
       "      <td>20.085714</td>\n",
       "    </tr>\n",
       "  </tbody>\n",
       "</table>\n",
       "</div>"
      ],
      "text/plain": [
       "   id sex  weight  height        bmi\n",
       "0   1   M     190      77  22.528251\n",
       "1   2   F     120      70  17.216327\n",
       "2   3   F     110      68  16.723616\n",
       "3   4   M     150      72  20.341435\n",
       "4   5   O     120      66  19.366391\n",
       "5   6   M     120      60  23.433333\n",
       "6   7   F     140      70  20.085714"
      ]
     },
     "execution_count": 345,
     "metadata": {},
     "output_type": "execute_result"
    }
   ],
   "source": [
    "# This height/weight looks imperial...\n",
    "\n",
    "bmi = (703 * weight) / (height ** 2)\n",
    "data[\"bmi\"] = bmi\n",
    "data"
   ]
  },
  {
   "cell_type": "markdown",
   "metadata": {},
   "source": [
    "## 6. Save sheet as a new CSV file `hw_dataB.csv`"
   ]
  },
  {
   "cell_type": "code",
   "execution_count": 346,
   "metadata": {},
   "outputs": [],
   "source": [
    "data.to_csv(\"hw_dataB.csv\")"
   ]
  },
  {
   "cell_type": "markdown",
   "metadata": {},
   "source": [
    "## Run the following"
   ]
  },
  {
   "cell_type": "code",
   "execution_count": 347,
   "metadata": {},
   "outputs": [
    {
     "name": "stdout",
     "output_type": "stream",
     "text": [
      ",id,sex,weight,height,bmi\n",
      "0,1,M,190,77,22.528250969809413\n",
      "1,2,F,120,70,17.216326530612246\n",
      "2,3,F,110,68,16.723615916955016\n",
      "3,4,M,150,72,20.341435185185187\n",
      "4,5,O,120,66,19.366391184573004\n",
      "5,6,M,120,60,23.433333333333334\n",
      "6,7,F,140,70,20.085714285714285\n"
     ]
    }
   ],
   "source": [
    "!type hw_dataB.csv"
   ]
  },
  {
   "cell_type": "code",
   "execution_count": null,
   "metadata": {},
   "outputs": [],
   "source": []
  }
 ],
 "metadata": {
  "kernelspec": {
   "display_name": "Python 3 (ipykernel)",
   "language": "python",
   "name": "python3"
  },
  "language_info": {
   "codemirror_mode": {
    "name": "ipython",
    "version": 3
   },
   "file_extension": ".py",
   "mimetype": "text/x-python",
   "name": "python",
   "nbconvert_exporter": "python",
   "pygments_lexer": "ipython3",
   "version": "3.10.2"
  }
 },
 "nbformat": 4,
 "nbformat_minor": 1
}
