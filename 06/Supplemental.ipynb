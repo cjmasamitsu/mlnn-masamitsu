{
 "cells": [
  {
   "cell_type": "markdown",
   "metadata": {},
   "source": [
    "# Suplemental, Optional\n",
    "\n",
    "Feel free to explore the variety of datasets in the /data fUsing any dataset that has a categorical feature that needs to be predicted, use several algorithms, preprocessing techniques, feature extraction techniques to fit the data to the model and show the accuracy, confusion matrix, and the classification report. G\n",
    "- https://www.kaggle.com/ntnu-testimon/paysim1\n",
    "- https://www.kaggle.com/joniarroba/noshowappointments\n",
    "- https://archive.ics.uci.edu/ml/datasets.html?format=&task=cla&att=&area=&numAtt=&numIns=&type=&sort=nameUp&view=table\n",
    "- https://archive.ics.uci.edu/ml/datasets/default+of+credit+card+clients\n",
    "- https://archive.ics.uci.edu/ml/datasets/Adult"
   ]
  },
  {
   "cell_type": "code",
   "execution_count": 2,
   "metadata": {},
   "outputs": [
    {
     "name": "stdout",
     "output_type": "stream",
     "text": [
      "\u001b[31m2016-Q1-Trips-History-Data.csv\u001b[m\u001b[m \u001b[31mbreweries.csv\u001b[m\u001b[m\r\n",
      "3D_spatial_network.txt.gz      chipotle.tsv\r\n",
      "Auto.csv                       convert_labelme.py\r\n",
      "Auto.data                      creditcardnumbers.txt\r\n",
      "College.csv                    dates.txt\r\n",
      "Credit.csv                     dates2.txt\r\n",
      "Heart.csv                      emails.txt\r\n",
      "KDCA-201601.csv                estimating_coefficients.png\r\n",
      "KDCA-201602.csv                kobe.csv\r\n",
      "KDCA-201603.csv                messy.txt\r\n",
      "USCensus1990.data.txt          phonenumbers.txt\r\n",
      "USCensus1990.data.txt.gz       pima-indians-diabetes.data\r\n",
      "adult.data                     sms.tsv\r\n",
      "adult.test                     snow_tweets.csv\r\n",
      "\u001b[31mbeers.csv\u001b[m\u001b[m                      stockholm.csv\r\n",
      "\u001b[31mbikeshare.csv.gz\u001b[m\u001b[m               stockholm_td_adj.dat\r\n",
      "\u001b[31mbikeshare.csv.gz.bak\u001b[m\u001b[m           years.txt\r\n",
      "bikeshare.zip\r\n"
     ]
    }
   ],
   "source": [
    "!ls ../data"
   ]
  },
  {
   "cell_type": "code",
   "execution_count": 3,
   "metadata": {},
   "outputs": [
    {
     "name": "stdout",
     "output_type": "stream",
     "text": [
      "\"\",\"Income\",\"Limit\",\"Rating\",\"Cards\",\"Age\",\"Education\",\"Gender\",\"Student\",\"Married\",\"Ethnicity\",\"Balance\"\r\n",
      "\"1\",14.891,3606,283,2,34,11,\" Male\",\"No\",\"Yes\",\"Caucasian\",333\r\n",
      "\"2\",106.025,6645,483,3,82,15,\"Female\",\"Yes\",\"Yes\",\"Asian\",903\r\n",
      "\"3\",104.593,7075,514,4,71,11,\" Male\",\"No\",\"No\",\"Asian\",580\r\n",
      "\"4\",148.924,9504,681,3,36,11,\"Female\",\"No\",\"No\",\"Asian\",964\r\n",
      "\"5\",55.882,4897,357,2,68,16,\" Male\",\"No\",\"Yes\",\"Caucasian\",331\r\n",
      "\"6\",80.18,8047,569,4,77,10,\" Male\",\"No\",\"No\",\"Caucasian\",1151\r\n",
      "\"7\",20.996,3388,259,2,37,12,\"Female\",\"No\",\"No\",\"African American\",203\r\n",
      "\"8\",71.408,7114,512,2,87,9,\" Male\",\"No\",\"No\",\"Asian\",872\r\n",
      "\"9\",15.125,3300,266,5,66,13,\"Female\",\"No\",\"No\",\"Caucasian\",279\r\n"
     ]
    }
   ],
   "source": [
    "!head ../data/Credit.csv"
   ]
  },
  {
   "cell_type": "markdown",
   "metadata": {},
   "source": [
    "## 1. Convert all columns into new numerical feature columns\n",
    "## 2. Using all the numerical columns: \n",
    "### a) fit a model and plot the resulting predictions. \n",
    "### b) count the number of correct Yes prediction and No prediction along with the number of Wrong Yes/No and store them into a dictionary  (see Confusion Matrix for more details).\n",
    "### c) repeat this for all the possible Kernels and vary your polynomial degrees\n",
    "## 3. Using the dictionary into a pandas DataFrame, display the results\n",
    "## 4. Repeat this process with a 65/35 Train/Test Split and using the Test Set for your prediction metrics"
   ]
  },
  {
   "cell_type": "code",
   "execution_count": null,
   "metadata": {},
   "outputs": [],
   "source": []
  }
 ],
 "metadata": {
  "kernelspec": {
   "display_name": "Python 3",
   "language": "python",
   "name": "python3"
  },
  "language_info": {
   "codemirror_mode": {
    "name": "ipython",
    "version": 3
   },
   "file_extension": ".py",
   "mimetype": "text/x-python",
   "name": "python",
   "nbconvert_exporter": "python",
   "pygments_lexer": "ipython3",
   "version": "3.7.4"
  }
 },
 "nbformat": 4,
 "nbformat_minor": 2
}
