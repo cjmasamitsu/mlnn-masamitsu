{
 "cells": [
  {
   "cell_type": "markdown",
   "metadata": {},
   "source": [
    "# Feature Extraction "
   ]
  },
  {
   "cell_type": "code",
   "execution_count": 3,
   "metadata": {},
   "outputs": [
    {
     "name": "stdout",
     "output_type": "stream",
     "text": [
      "2016-Q1-cabi-trip-history-data.csv dates.txt\r\n",
      "3D_spatial_network.txt.gz          dates2.txt\r\n",
      "Auto.csv                           emails.txt\r\n",
      "Auto.data                          estimating_coefficients.png\r\n",
      "College.csv                        kobe.csv\r\n",
      "Credit.csv                         messy.txt\r\n",
      "Heart.csv                          phonenumbers.txt\r\n",
      "KDCA-201601.csv                    \u001b[1m\u001b[31mpopulation.csv\u001b[m\u001b[m\r\n",
      "KDCA-201602.csv                    sms.tsv\r\n",
      "KDCA-201603.csv                    stockholm.csv\r\n",
      "chipotle.tsv                       stockholm_td_adj.dat\r\n",
      "creditcardnumbers.txt              years.txt\r\n"
     ]
    }
   ],
   "source": [
    "!ls ../../data"
   ]
  },
  {
   "cell_type": "code",
   "execution_count": 4,
   "metadata": {},
   "outputs": [
    {
     "name": "stdout",
     "output_type": "stream",
     "text": [
      "\"\",\"Income\",\"Limit\",\"Rating\",\"Cards\",\"Age\",\"Education\",\"Gender\",\"Student\",\"Married\",\"Ethnicity\",\"Balance\"\r",
      "\r\n",
      "\"1\",14.891,3606,283,2,34,11,\" Male\",\"No\",\"Yes\",\"Caucasian\",333\r",
      "\r\n",
      "\"2\",106.025,6645,483,3,82,15,\"Female\",\"Yes\",\"Yes\",\"Asian\",903\r",
      "\r\n",
      "\"3\",104.593,7075,514,4,71,11,\" Male\",\"No\",\"No\",\"Asian\",580\r",
      "\r\n",
      "\"4\",148.924,9504,681,3,36,11,\"Female\",\"No\",\"No\",\"Asian\",964\r",
      "\r\n",
      "\"5\",55.882,4897,357,2,68,16,\" Male\",\"No\",\"Yes\",\"Caucasian\",331\r",
      "\r\n",
      "\"6\",80.18,8047,569,4,77,10,\" Male\",\"No\",\"No\",\"Caucasian\",1151\r",
      "\r\n",
      "\"7\",20.996,3388,259,2,37,12,\"Female\",\"No\",\"No\",\"African American\",203\r",
      "\r\n",
      "\"8\",71.408,7114,512,2,87,9,\" Male\",\"No\",\"No\",\"Asian\",872\r",
      "\r\n",
      "\"9\",15.125,3300,266,5,66,13,\"Female\",\"No\",\"No\",\"Caucasian\",279\r",
      "\r\n"
     ]
    }
   ],
   "source": [
    "!head ../../data/Credit.csv"
   ]
  },
  {
   "cell_type": "code",
   "execution_count": null,
   "metadata": {
    "collapsed": true
   },
   "outputs": [],
   "source": []
  }
 ],
 "metadata": {
  "kernelspec": {
   "display_name": "Python 3",
   "language": "python",
   "name": "python3"
  },
  "language_info": {
   "codemirror_mode": {
    "name": "ipython",
    "version": 3
   },
   "file_extension": ".py",
   "mimetype": "text/x-python",
   "name": "python",
   "nbconvert_exporter": "python",
   "pygments_lexer": "ipython3",
   "version": "3.6.1"
  }
 },
 "nbformat": 4,
 "nbformat_minor": 2
}
