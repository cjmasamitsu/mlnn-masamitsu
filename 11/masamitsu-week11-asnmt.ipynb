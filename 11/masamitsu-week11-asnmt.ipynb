{
 "cells": [
  {
   "cell_type": "markdown",
   "metadata": {},
   "source": [
    "# Casey Masamitsu | Week 11 | MLNN"
   ]
  },
  {
   "cell_type": "markdown",
   "metadata": {},
   "source": [
    "# Neural Networks image recognition - ConvNet\n",
    "\n",
    "1. Add random noise (see below on `size parameter` on [`np.random.normal`](https://numpy.org/doc/stable/reference/random/generated/numpy.random.normal.html)) to the images in training and testing. **Make sure each image gets a different noise feature added to it. Inspect by printing out several images. Note - the `size` parameter should match the data. **\n",
    "2. Compare the `accuracy` of train and val after N epochs for MLNN with and without noise. \n",
    "3. Vary the amount of noise by changing the `scale` parameter in `np.random.normal` by a factor. Use `.1, .5, 1.0, 2.0, 4.0` for the `scale` and keep track of the `accuracy` for training and validation and plot these results.\n",
    "4. Compare these results with the previous week where we used a MultiLayer Perceptron (this week we use a ConvNet). "
   ]
  },
  {
   "cell_type": "markdown",
   "metadata": {},
   "source": [
    "# Neural Networks - Image Recognition "
   ]
  },
  {
   "cell_type": "code",
   "execution_count": 1,
   "metadata": {},
   "outputs": [],
   "source": [
    "import tensorflow as tf\n",
    "import keras\n",
    "from keras.datasets import mnist\n",
    "from keras.models import Sequential\n",
    "from keras.layers import Dense, Dropout, Flatten\n",
    "from keras.layers import Conv2D, MaxPooling2D\n",
    "from tensorflow.keras.optimizers import RMSprop\n",
    "from keras import backend"
   ]
  },
  {
   "cell_type": "code",
   "execution_count": 2,
   "metadata": {},
   "outputs": [],
   "source": [
    "import numpy as np\n",
    "import pandas as pd\n",
    "import matplotlib.pyplot as  plt\n",
    "%matplotlib inline"
   ]
  },
  {
   "cell_type": "markdown",
   "metadata": {},
   "source": [
    "## Conv Net\n",
    "Trains a simple convnet on the MNIST dataset.\n",
    "Gets to 99.25% test accuracy after 12 epochs\n",
    "(there is still a lot of margin for parameter tuning).\n"
   ]
  },
  {
   "cell_type": "code",
   "execution_count": 5,
   "metadata": {
    "scrolled": true
   },
   "outputs": [
    {
     "name": "stdout",
     "output_type": "stream",
     "text": [
      "x_train shape: (60000, 28, 28, 1)\n",
      "60000 train samples\n",
      "10000 test samples\n"
     ]
    }
   ],
   "source": [
    "# input image dimensions\n",
    "img_rows, img_cols = 28, 28\n",
    "\n",
    "# the data, shuffled and split between train and test sets\n",
    "(x_train, y_train), (x_test, y_test) = mnist.load_data()\n",
    "\n",
    "if backend.image_data_format() == 'channels_first':\n",
    "    x_train = x_train.reshape(x_train.shape[0], 1, img_rows, img_cols)\n",
    "    x_test = x_test.reshape(x_test.shape[0], 1, img_rows, img_cols)\n",
    "    input_shape = (1, img_rows, img_cols)\n",
    "else:\n",
    "    x_train = x_train.reshape(x_train.shape[0], img_rows, img_cols, 1)\n",
    "    x_test = x_test.reshape(x_test.shape[0], img_rows, img_cols, 1)\n",
    "    input_shape = (img_rows, img_cols, 1)\n",
    "\n",
    "x_train = x_train.astype('float32')\n",
    "x_test = x_test.astype('float32')\n",
    "x_train /= 255\n",
    "x_test /= 255\n",
    "print('x_train shape:', x_train.shape)\n",
    "print(x_train.shape[0], 'train samples')\n",
    "print(x_test.shape[0], 'test samples')"
   ]
  },
  {
   "cell_type": "code",
   "execution_count": 6,
   "metadata": {},
   "outputs": [
    {
     "name": "stdout",
     "output_type": "stream",
     "text": [
      "Epoch 1/12\n",
      "  5/469 [..............................] - ETA: 6s - loss: 2.3069 - accuracy: 0.0953  "
     ]
    },
    {
     "name": "stderr",
     "output_type": "stream",
     "text": [
      "2022-04-18 10:49:21.188119: I tensorflow/core/grappler/optimizers/custom_graph_optimizer_registry.cc:113] Plugin optimizer for device_type GPU is enabled.\n"
     ]
    },
    {
     "name": "stdout",
     "output_type": "stream",
     "text": [
      "469/469 [==============================] - ETA: 0s - loss: 1.6304 - accuracy: 0.5076"
     ]
    },
    {
     "name": "stderr",
     "output_type": "stream",
     "text": [
      "2022-04-18 10:49:27.253988: I tensorflow/core/grappler/optimizers/custom_graph_optimizer_registry.cc:113] Plugin optimizer for device_type GPU is enabled.\n"
     ]
    },
    {
     "name": "stdout",
     "output_type": "stream",
     "text": [
      "469/469 [==============================] - 7s 14ms/step - loss: 1.6304 - accuracy: 0.5076 - val_loss: 0.6424 - val_accuracy: 0.8570\n",
      "Epoch 2/12\n",
      "469/469 [==============================] - 6s 14ms/step - loss: 0.6442 - accuracy: 0.8061 - val_loss: 0.3796 - val_accuracy: 0.8956\n",
      "Epoch 3/12\n",
      "469/469 [==============================] - 7s 14ms/step - loss: 0.4800 - accuracy: 0.8580 - val_loss: 0.3168 - val_accuracy: 0.9101\n",
      "Epoch 4/12\n",
      "469/469 [==============================] - 6s 14ms/step - loss: 0.4143 - accuracy: 0.8771 - val_loss: 0.2860 - val_accuracy: 0.9157\n",
      "Epoch 5/12\n",
      "469/469 [==============================] - 6s 14ms/step - loss: 0.3709 - accuracy: 0.8901 - val_loss: 0.2606 - val_accuracy: 0.9230\n",
      "Epoch 6/12\n",
      "469/469 [==============================] - 7s 14ms/step - loss: 0.3409 - accuracy: 0.8998 - val_loss: 0.2403 - val_accuracy: 0.9277\n",
      "Epoch 7/12\n",
      "469/469 [==============================] - 7s 14ms/step - loss: 0.3176 - accuracy: 0.9065 - val_loss: 0.2258 - val_accuracy: 0.9312\n",
      "Epoch 8/12\n",
      "469/469 [==============================] - 6s 13ms/step - loss: 0.2980 - accuracy: 0.9123 - val_loss: 0.2106 - val_accuracy: 0.9362\n",
      "Epoch 9/12\n",
      "469/469 [==============================] - 7s 15ms/step - loss: 0.2796 - accuracy: 0.9178 - val_loss: 0.1997 - val_accuracy: 0.9388\n",
      "Epoch 10/12\n",
      "469/469 [==============================] - 6s 13ms/step - loss: 0.2671 - accuracy: 0.9216 - val_loss: 0.1894 - val_accuracy: 0.9416\n",
      "Epoch 11/12\n",
      "469/469 [==============================] - 6s 13ms/step - loss: 0.2537 - accuracy: 0.9253 - val_loss: 0.1819 - val_accuracy: 0.9432\n",
      "Epoch 12/12\n",
      "469/469 [==============================] - 6s 13ms/step - loss: 0.2423 - accuracy: 0.9285 - val_loss: 0.1730 - val_accuracy: 0.9482\n",
      "Epoch 1/12\n",
      "  5/469 [..............................] - ETA: 5s - loss: 2.2987 - accuracy: 0.1203  "
     ]
    },
    {
     "name": "stderr",
     "output_type": "stream",
     "text": [
      "2022-04-18 10:50:41.642099: I tensorflow/core/grappler/optimizers/custom_graph_optimizer_registry.cc:113] Plugin optimizer for device_type GPU is enabled.\n"
     ]
    },
    {
     "name": "stdout",
     "output_type": "stream",
     "text": [
      "469/469 [==============================] - ETA: 0s - loss: 1.6952 - accuracy: 0.4782"
     ]
    },
    {
     "name": "stderr",
     "output_type": "stream",
     "text": [
      "2022-04-18 10:50:47.678378: I tensorflow/core/grappler/optimizers/custom_graph_optimizer_registry.cc:113] Plugin optimizer for device_type GPU is enabled.\n"
     ]
    },
    {
     "name": "stdout",
     "output_type": "stream",
     "text": [
      "469/469 [==============================] - 7s 14ms/step - loss: 1.6952 - accuracy: 0.4782 - val_loss: 0.6908 - val_accuracy: 0.8542\n",
      "Epoch 2/12\n",
      "469/469 [==============================] - 6s 14ms/step - loss: 0.6656 - accuracy: 0.8028 - val_loss: 0.3930 - val_accuracy: 0.8924\n",
      "Epoch 3/12\n",
      "469/469 [==============================] - 6s 13ms/step - loss: 0.4891 - accuracy: 0.8554 - val_loss: 0.3293 - val_accuracy: 0.9071\n",
      "Epoch 4/12\n",
      "469/469 [==============================] - 6s 13ms/step - loss: 0.4218 - accuracy: 0.8752 - val_loss: 0.2974 - val_accuracy: 0.9136\n",
      "Epoch 5/12\n",
      "469/469 [==============================] - 6s 13ms/step - loss: 0.3822 - accuracy: 0.8874 - val_loss: 0.2719 - val_accuracy: 0.9204\n",
      "Epoch 6/12\n",
      "469/469 [==============================] - 6s 14ms/step - loss: 0.3486 - accuracy: 0.8971 - val_loss: 0.2512 - val_accuracy: 0.9268\n",
      "Epoch 7/12\n",
      "469/469 [==============================] - 6s 13ms/step - loss: 0.3282 - accuracy: 0.9033 - val_loss: 0.2368 - val_accuracy: 0.9301\n",
      "Epoch 8/12\n",
      "469/469 [==============================] - 6s 13ms/step - loss: 0.3051 - accuracy: 0.9094 - val_loss: 0.2242 - val_accuracy: 0.9346\n",
      "Epoch 9/12\n",
      "469/469 [==============================] - 6s 13ms/step - loss: 0.2914 - accuracy: 0.9148 - val_loss: 0.2116 - val_accuracy: 0.9351\n",
      "Epoch 10/12\n",
      "469/469 [==============================] - 6s 13ms/step - loss: 0.2757 - accuracy: 0.9195 - val_loss: 0.2005 - val_accuracy: 0.9391\n",
      "Epoch 11/12\n",
      "469/469 [==============================] - 6s 13ms/step - loss: 0.2607 - accuracy: 0.9231 - val_loss: 0.1904 - val_accuracy: 0.9429\n",
      "Epoch 12/12\n",
      "469/469 [==============================] - 6s 13ms/step - loss: 0.2542 - accuracy: 0.9258 - val_loss: 0.1832 - val_accuracy: 0.9454\n",
      "Epoch 1/12\n",
      "  9/469 [..............................] - ETA: 5s - loss: 2.3259 - accuracy: 0.0955"
     ]
    },
    {
     "name": "stderr",
     "output_type": "stream",
     "text": [
      "2022-04-18 10:52:00.069240: I tensorflow/core/grappler/optimizers/custom_graph_optimizer_registry.cc:113] Plugin optimizer for device_type GPU is enabled.\n"
     ]
    },
    {
     "name": "stdout",
     "output_type": "stream",
     "text": [
      "468/469 [============================>.] - ETA: 0s - loss: 2.0681 - accuracy: 0.3078"
     ]
    },
    {
     "name": "stderr",
     "output_type": "stream",
     "text": [
      "2022-04-18 10:52:06.104674: I tensorflow/core/grappler/optimizers/custom_graph_optimizer_registry.cc:113] Plugin optimizer for device_type GPU is enabled.\n"
     ]
    },
    {
     "name": "stdout",
     "output_type": "stream",
     "text": [
      "469/469 [==============================] - 7s 14ms/step - loss: 2.0674 - accuracy: 0.3082 - val_loss: 1.4403 - val_accuracy: 0.7127\n",
      "Epoch 2/12\n",
      "469/469 [==============================] - 6s 14ms/step - loss: 1.0873 - accuracy: 0.6779 - val_loss: 0.6283 - val_accuracy: 0.8281\n",
      "Epoch 3/12\n",
      "469/469 [==============================] - 6s 14ms/step - loss: 0.7272 - accuracy: 0.7751 - val_loss: 0.5045 - val_accuracy: 0.8507\n",
      "Epoch 4/12\n",
      "469/469 [==============================] - 7s 14ms/step - loss: 0.6251 - accuracy: 0.8077 - val_loss: 0.4532 - val_accuracy: 0.8628\n",
      "Epoch 5/12\n",
      "469/469 [==============================] - 6s 13ms/step - loss: 0.5723 - accuracy: 0.8235 - val_loss: 0.4248 - val_accuracy: 0.8684\n",
      "Epoch 6/12\n",
      "469/469 [==============================] - 6s 13ms/step - loss: 0.5382 - accuracy: 0.8350 - val_loss: 0.4065 - val_accuracy: 0.8737\n",
      "Epoch 7/12\n",
      "469/469 [==============================] - 6s 13ms/step - loss: 0.5106 - accuracy: 0.8424 - val_loss: 0.3891 - val_accuracy: 0.8809\n",
      "Epoch 8/12\n",
      "469/469 [==============================] - 6s 13ms/step - loss: 0.4897 - accuracy: 0.8501 - val_loss: 0.3747 - val_accuracy: 0.8839\n",
      "Epoch 9/12\n",
      "469/469 [==============================] - 6s 13ms/step - loss: 0.4753 - accuracy: 0.8540 - val_loss: 0.3659 - val_accuracy: 0.8880\n",
      "Epoch 10/12\n",
      "469/469 [==============================] - 6s 13ms/step - loss: 0.4596 - accuracy: 0.8580 - val_loss: 0.3515 - val_accuracy: 0.8909\n",
      "Epoch 11/12\n",
      "469/469 [==============================] - 6s 13ms/step - loss: 0.4424 - accuracy: 0.8642 - val_loss: 0.3410 - val_accuracy: 0.8946\n",
      "Epoch 12/12\n",
      "469/469 [==============================] - 6s 13ms/step - loss: 0.4308 - accuracy: 0.8676 - val_loss: 0.3323 - val_accuracy: 0.8947\n",
      "Epoch 1/12\n",
      "  1/469 [..............................] - ETA: 2:33 - loss: 2.4331 - accuracy: 0.0547"
     ]
    },
    {
     "name": "stderr",
     "output_type": "stream",
     "text": [
      "2022-04-18 10:53:18.931089: I tensorflow/core/grappler/optimizers/custom_graph_optimizer_registry.cc:113] Plugin optimizer for device_type GPU is enabled.\n"
     ]
    },
    {
     "name": "stdout",
     "output_type": "stream",
     "text": [
      "469/469 [==============================] - ETA: 0s - loss: 2.2436 - accuracy: 0.1766"
     ]
    },
    {
     "name": "stderr",
     "output_type": "stream",
     "text": [
      "2022-04-18 10:53:25.142493: I tensorflow/core/grappler/optimizers/custom_graph_optimizer_registry.cc:113] Plugin optimizer for device_type GPU is enabled.\n"
     ]
    },
    {
     "name": "stdout",
     "output_type": "stream",
     "text": [
      "469/469 [==============================] - 7s 14ms/step - loss: 2.2436 - accuracy: 0.1766 - val_loss: 2.0644 - val_accuracy: 0.4639\n",
      "Epoch 2/12\n",
      "469/469 [==============================] - 7s 14ms/step - loss: 1.8378 - accuracy: 0.4078 - val_loss: 1.3590 - val_accuracy: 0.6714\n",
      "Epoch 3/12\n",
      "469/469 [==============================] - 6s 14ms/step - loss: 1.3106 - accuracy: 0.5781 - val_loss: 0.9818 - val_accuracy: 0.7144\n",
      "Epoch 4/12\n",
      "469/469 [==============================] - 6s 13ms/step - loss: 1.0927 - accuracy: 0.6425 - val_loss: 0.8732 - val_accuracy: 0.7305\n",
      "Epoch 5/12\n",
      "469/469 [==============================] - 6s 14ms/step - loss: 1.0050 - accuracy: 0.6714 - val_loss: 0.8259 - val_accuracy: 0.7371\n",
      "Epoch 6/12\n",
      "469/469 [==============================] - 6s 13ms/step - loss: 0.9566 - accuracy: 0.6831 - val_loss: 0.8007 - val_accuracy: 0.7444\n",
      "Epoch 7/12\n",
      "469/469 [==============================] - 6s 13ms/step - loss: 0.9303 - accuracy: 0.6920 - val_loss: 0.7813 - val_accuracy: 0.7494\n",
      "Epoch 8/12\n",
      "469/469 [==============================] - 7s 14ms/step - loss: 0.9085 - accuracy: 0.7008 - val_loss: 0.7702 - val_accuracy: 0.7537\n",
      "Epoch 9/12\n",
      "469/469 [==============================] - 8s 18ms/step - loss: 0.8924 - accuracy: 0.7057 - val_loss: 0.7612 - val_accuracy: 0.7541\n",
      "Epoch 10/12\n",
      "469/469 [==============================] - 6s 13ms/step - loss: 0.8812 - accuracy: 0.7091 - val_loss: 0.7536 - val_accuracy: 0.7544\n",
      "Epoch 11/12\n",
      "469/469 [==============================] - 6s 13ms/step - loss: 0.8664 - accuracy: 0.7154 - val_loss: 0.7459 - val_accuracy: 0.7571\n",
      "Epoch 12/12\n",
      "469/469 [==============================] - 6s 13ms/step - loss: 0.8579 - accuracy: 0.7184 - val_loss: 0.7389 - val_accuracy: 0.7588\n",
      "Epoch 1/12\n",
      "  5/469 [..............................] - ETA: 6s - loss: 2.5829 - accuracy: 0.0953  "
     ]
    },
    {
     "name": "stderr",
     "output_type": "stream",
     "text": [
      "2022-04-18 10:54:40.582033: I tensorflow/core/grappler/optimizers/custom_graph_optimizer_registry.cc:113] Plugin optimizer for device_type GPU is enabled.\n"
     ]
    },
    {
     "name": "stdout",
     "output_type": "stream",
     "text": [
      "469/469 [==============================] - ETA: 0s - loss: 2.3186 - accuracy: 0.1150"
     ]
    },
    {
     "name": "stderr",
     "output_type": "stream",
     "text": [
      "2022-04-18 10:54:46.497946: I tensorflow/core/grappler/optimizers/custom_graph_optimizer_registry.cc:113] Plugin optimizer for device_type GPU is enabled.\n"
     ]
    },
    {
     "name": "stdout",
     "output_type": "stream",
     "text": [
      "469/469 [==============================] - 7s 13ms/step - loss: 2.3186 - accuracy: 0.1150 - val_loss: 2.2905 - val_accuracy: 0.1627\n",
      "Epoch 2/12\n",
      "469/469 [==============================] - 6s 13ms/step - loss: 2.2744 - accuracy: 0.1490 - val_loss: 2.2199 - val_accuracy: 0.2610\n",
      "Epoch 3/12\n",
      "469/469 [==============================] - 7s 14ms/step - loss: 2.1926 - accuracy: 0.2057 - val_loss: 2.0516 - val_accuracy: 0.3384\n",
      "Epoch 4/12\n",
      "469/469 [==============================] - 6s 13ms/step - loss: 2.0334 - accuracy: 0.2865 - val_loss: 1.8456 - val_accuracy: 0.4126\n",
      "Epoch 5/12\n",
      "469/469 [==============================] - 6s 13ms/step - loss: 1.8794 - accuracy: 0.3438 - val_loss: 1.6946 - val_accuracy: 0.4556\n",
      "Epoch 6/12\n",
      "469/469 [==============================] - 6s 13ms/step - loss: 1.7756 - accuracy: 0.3869 - val_loss: 1.6085 - val_accuracy: 0.4638\n",
      "Epoch 7/12\n",
      "469/469 [==============================] - 6s 13ms/step - loss: 1.7115 - accuracy: 0.4075 - val_loss: 1.5562 - val_accuracy: 0.4785\n",
      "Epoch 8/12\n",
      "469/469 [==============================] - 7s 14ms/step - loss: 1.6717 - accuracy: 0.4225 - val_loss: 1.5262 - val_accuracy: 0.4837\n",
      "Epoch 9/12\n",
      "469/469 [==============================] - 7s 14ms/step - loss: 1.6423 - accuracy: 0.4326 - val_loss: 1.5012 - val_accuracy: 0.4892\n",
      "Epoch 10/12\n",
      "469/469 [==============================] - 6s 14ms/step - loss: 1.6245 - accuracy: 0.4420 - val_loss: 1.4944 - val_accuracy: 0.4906\n",
      "Epoch 11/12\n",
      "469/469 [==============================] - 6s 13ms/step - loss: 1.6167 - accuracy: 0.4439 - val_loss: 1.4770 - val_accuracy: 0.4993\n",
      "Epoch 12/12\n",
      "469/469 [==============================] - 6s 13ms/step - loss: 1.6007 - accuracy: 0.4518 - val_loss: 1.4743 - val_accuracy: 0.4970\n",
      "Epoch 1/12\n",
      "  1/469 [..............................] - ETA: 2:23 - loss: 3.4353 - accuracy: 0.1250"
     ]
    },
    {
     "name": "stderr",
     "output_type": "stream",
     "text": [
      "2022-04-18 10:56:00.008752: I tensorflow/core/grappler/optimizers/custom_graph_optimizer_registry.cc:113] Plugin optimizer for device_type GPU is enabled.\n"
     ]
    },
    {
     "name": "stdout",
     "output_type": "stream",
     "text": [
      "469/469 [==============================] - ETA: 0s - loss: 2.3599 - accuracy: 0.1053"
     ]
    },
    {
     "name": "stderr",
     "output_type": "stream",
     "text": [
      "2022-04-18 10:56:06.107971: I tensorflow/core/grappler/optimizers/custom_graph_optimizer_registry.cc:113] Plugin optimizer for device_type GPU is enabled.\n"
     ]
    },
    {
     "name": "stdout",
     "output_type": "stream",
     "text": [
      "469/469 [==============================] - 7s 14ms/step - loss: 2.3599 - accuracy: 0.1053 - val_loss: 2.3026 - val_accuracy: 0.1126\n",
      "Epoch 2/12\n",
      "469/469 [==============================] - 8s 16ms/step - loss: 2.3039 - accuracy: 0.1110 - val_loss: 2.3025 - val_accuracy: 0.1117\n",
      "Epoch 3/12\n",
      "469/469 [==============================] - 6s 14ms/step - loss: 2.3027 - accuracy: 0.1101 - val_loss: 2.3023 - val_accuracy: 0.1137\n",
      "Epoch 4/12\n",
      "469/469 [==============================] - 6s 14ms/step - loss: 2.3027 - accuracy: 0.1111 - val_loss: 2.3022 - val_accuracy: 0.1133\n",
      "Epoch 5/12\n",
      "469/469 [==============================] - 6s 13ms/step - loss: 2.3019 - accuracy: 0.1130 - val_loss: 2.3010 - val_accuracy: 0.1139\n",
      "Epoch 6/12\n",
      "469/469 [==============================] - 6s 13ms/step - loss: 2.3019 - accuracy: 0.1126 - val_loss: 2.3015 - val_accuracy: 0.1144\n",
      "Epoch 7/12\n",
      "469/469 [==============================] - 6s 13ms/step - loss: 2.3004 - accuracy: 0.1135 - val_loss: 2.2996 - val_accuracy: 0.1163\n",
      "Epoch 8/12\n",
      "469/469 [==============================] - 6s 13ms/step - loss: 2.2995 - accuracy: 0.1162 - val_loss: 2.2978 - val_accuracy: 0.1208\n",
      "Epoch 9/12\n",
      "469/469 [==============================] - 6s 13ms/step - loss: 2.2979 - accuracy: 0.1166 - val_loss: 2.2955 - val_accuracy: 0.1220\n",
      "Epoch 10/12\n",
      "469/469 [==============================] - 6s 13ms/step - loss: 2.2948 - accuracy: 0.1179 - val_loss: 2.2907 - val_accuracy: 0.1353\n",
      "Epoch 11/12\n",
      "469/469 [==============================] - 6s 13ms/step - loss: 2.2913 - accuracy: 0.1227 - val_loss: 2.2862 - val_accuracy: 0.1367\n",
      "Epoch 12/12\n",
      "469/469 [==============================] - 6s 13ms/step - loss: 2.2869 - accuracy: 0.1272 - val_loss: 2.2773 - val_accuracy: 0.1478\n"
     ]
    }
   ],
   "source": [
    "# Noise 0 to 4.0\n",
    "\n",
    "scales = [0, .1, .5, 1.0, 2.0, 4.0]\n",
    "train_acc = []\n",
    "test_acc = []\n",
    "\n",
    "batch_size = 128\n",
    "num_classes = 10\n",
    "epochs = 12\n",
    "\n",
    "# convert class vectors to binary class matrices\n",
    "y_train = tf.keras.utils.to_categorical(y_train, num_classes)\n",
    "y_test = tf.keras.utils.to_categorical(y_test, num_classes)\n",
    "\n",
    "\n",
    "for scale in scales:\n",
    "    x_train_noise = x_train + np.random.normal(scale = scale, size=x_train.shape)\n",
    "    x_test_noise = x_test + np.random.normal(scale = scale, size=x_test.shape)\n",
    "\n",
    "    model = Sequential()\n",
    "    model.add(Conv2D(32, kernel_size=(3, 3),\n",
    "                     activation='relu',\n",
    "                     input_shape=input_shape))\n",
    "    model.add(Conv2D(64, (3, 3), activation='relu'))\n",
    "    model.add(MaxPooling2D(pool_size=(2, 2)))\n",
    "    model.add(Dropout(0.25))\n",
    "    model.add(Flatten())\n",
    "    model.add(Dense(128, activation='relu'))\n",
    "    model.add(Dropout(0.5))\n",
    "    model.add(Dense(num_classes, activation='softmax'))\n",
    "\n",
    "    model.compile(loss=keras.losses.categorical_crossentropy,\n",
    "                  optimizer=tf.keras.optimizers.Adadelta(learning_rate = 0.01),\n",
    "                  metrics=['accuracy'])\n",
    "\n",
    "    history = model.fit(x_train_noise, y_train,\n",
    "                        batch_size = batch_size,\n",
    "                        epochs = epochs,\n",
    "                        verbose = 1,\n",
    "                        validation_data = (x_test_noise, y_test))\n",
    "    \n",
    "    score = model.evaluate(x_test_noise, y_test, verbose=0)\n",
    "    \n",
    "    train_acc.append(history.history['accuracy'][-1])\n",
    "    test_acc.append(score[1])"
   ]
  },
  {
   "cell_type": "code",
   "execution_count": 7,
   "metadata": {},
   "outputs": [
    {
     "data": {
      "image/png": "[encoded data removed]",
      "text/plain": [
       "<Figure size 432x288 with 1 Axes>"
      ]
     },
     "metadata": {
      "needs_background": "light"
     },
     "output_type": "display_data"
    }
   ],
   "source": [
    "plt.figure()\n",
    "plt.plot(scales, train_acc, label = 'ConvNet Train', c = \"purple\")\n",
    "plt.plot(scales, test_acc, label = 'ConvNet Test', c = \"green\")\n",
    "plt.xlabel('Scale')\n",
    "plt.ylabel('Accuracy')\n",
    "plt.title('Accuracy of Conv Net Model With Increasing Noise')\n",
    "plt.legend()\n",
    "plt.show()"
   ]
  },
  {
   "cell_type": "code",
   "execution_count": 8,
   "metadata": {},
   "outputs": [],
   "source": [
    "perceptron_test = [0.9826000332832336,\n",
    "0.9778000712394714,\n",
    " 0.9180000424385071,\n",
    " 0.7573000192642212,\n",
    " 0.4139000177383423,\n",
    " 0.18940000236034393]\n",
    "perceptron_train = [0.9956833720207214,\n",
    "0.9980166554450989,\n",
    " 0.9956666827201843,\n",
    " 0.9816666841506958,\n",
    " 0.9045000076293945,\n",
    " 0.6969166994094849]"
   ]
  },
  {
   "cell_type": "code",
   "execution_count": 9,
   "metadata": {},
   "outputs": [
    {
     "data": {
      "image/png": "[encoded data removed]",
      "text/plain": [
       "<Figure size 432x288 with 1 Axes>"
      ]
     },
     "metadata": {
      "needs_background": "light"
     },
     "output_type": "display_data"
    }
   ],
   "source": [
    "plt.figure()\n",
    "plt.plot(scales, train_acc, label = 'ConvNet Train', c = \"purple\")\n",
    "plt.plot(scales, test_acc, label = 'ConvNet Test', c = \"green\")\n",
    "plt.plot(scales, perceptron_train, label = 'Perceptron Train', c = \"orange\")\n",
    "plt.plot(scales, perceptron_test, label = 'Perceptron Test', c = \"blue\")\n",
    "plt.xlabel('Scale')\n",
    "plt.ylabel('Accuracy')\n",
    "plt.title('Accuracy of Conv Net vs Perceptron Model With Increasing Noise')\n",
    "plt.legend()\n",
    "plt.show()"
   ]
  },
  {
   "cell_type": "markdown",
   "metadata": {},
   "source": [
    "The Perceptron training model remained the best performing model across all scales. Initially, at scales below 1.0, the Perceptron test model outperformed Conv Net. However, with scales greater than about 1.5, the Conv Net models outperformed hte Perceptron test model, but still did not outperform the Perceptron training model. "
   ]
  },
  {
   "cell_type": "code",
   "execution_count": null,
   "metadata": {},
   "outputs": [],
   "source": []
  }
 ],
 "metadata": {
  "kernelspec": {
   "display_name": "Python 3 (ipykernel)",
   "language": "python",
   "name": "python3"
  },
  "language_info": {
   "codemirror_mode": {
    "name": "ipython",
    "version": 3
   },
   "file_extension": ".py",
   "mimetype": "text/x-python",
   "name": "python",
   "nbconvert_exporter": "python",
   "pygments_lexer": "ipython3",
   "version": "3.9.10"
  }
 },
 "nbformat": 4,
 "nbformat_minor": 2
}