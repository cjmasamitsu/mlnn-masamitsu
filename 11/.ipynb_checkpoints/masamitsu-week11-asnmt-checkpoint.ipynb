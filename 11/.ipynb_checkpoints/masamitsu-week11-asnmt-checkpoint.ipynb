{
 "cells": [
  {
   "cell_type": "markdown",
   "metadata": {},
   "source": [
    "# Casey Masamitsu | Week 11 | MLNN"
   ]
  },
  {
   "cell_type": "markdown",
   "metadata": {},
   "source": [
    "# Neural Networks image recognition - ConvNet\n",
    "\n",
    "1. Add random noise (see below on `size parameter` on [`np.random.normal`](https://numpy.org/doc/stable/reference/random/generated/numpy.random.normal.html)) to the images in training and testing. **Make sure each image gets a different noise feature added to it. Inspect by printing out several images. Note - the `size` parameter should match the data. **\n",
    "2. Compare the `accuracy` of train and val after N epochs for MLNN with and without noise. \n",
    "3. Vary the amount of noise by changing the `scale` parameter in `np.random.normal` by a factor. Use `.1, .5, 1.0, 2.0, 4.0` for the `scale` and keep track of the `accuracy` for training and validation and plot these results.\n",
    "4. Compare these results with the previous week where we used a MultiLayer Perceptron (this week we use a ConvNet). "
   ]
  },
  {
   "cell_type": "markdown",
   "metadata": {},
   "source": [
    "# Neural Networks - Image Recognition "
   ]
  },
  {
   "cell_type": "code",
   "execution_count": 11,
   "metadata": {},
   "outputs": [],
   "source": [
    "import tensorflow as tf\n",
    "import keras\n",
    "from keras.datasets import mnist\n",
    "from keras.models import Sequential\n",
    "from keras.layers import Dense, Dropout, Flatten\n",
    "from keras.layers import Conv2D, MaxPooling2D\n",
    "from tensorflow.keras.optimizers import RMSprop\n",
    "from keras import backend"
   ]
  },
  {
   "cell_type": "code",
   "execution_count": 12,
   "metadata": {},
   "outputs": [],
   "source": [
    "import numpy as np\n",
    "import pandas as pd\n",
    "import matplotlib.pyplot as  plt\n",
    "%matplotlib inline"
   ]
  },
  {
   "cell_type": "markdown",
   "metadata": {},
   "source": [
    "## Conv Net\n",
    "Trains a simple convnet on the MNIST dataset.\n",
    "Gets to 99.25% test accuracy after 12 epochs\n",
    "(there is still a lot of margin for parameter tuning).\n"
   ]
  },
  {
   "cell_type": "code",
   "execution_count": 34,
   "metadata": {
    "scrolled": true
   },
   "outputs": [
    {
     "name": "stdout",
     "output_type": "stream",
     "text": [
      "x_train shape: (60000, 28, 28, 1)\n",
      "60000 train samples\n",
      "10000 test samples\n"
     ]
    }
   ],
   "source": [
    "# input image dimensions\n",
    "img_rows, img_cols = 28, 28\n",
    "\n",
    "# the data, shuffled and split between train and test sets\n",
    "(x_train, y_train), (x_test, y_test) = mnist.load_data()\n",
    "\n",
    "if backend.image_data_format() == 'channels_first':\n",
    "    x_train = x_train.reshape(x_train.shape[0], 1, img_rows, img_cols)\n",
    "    x_test = x_test.reshape(x_test.shape[0], 1, img_rows, img_cols)\n",
    "    input_shape = (1, img_rows, img_cols)\n",
    "else:\n",
    "    x_train = x_train.reshape(x_train.shape[0], img_rows, img_cols, 1)\n",
    "    x_test = x_test.reshape(x_test.shape[0], img_rows, img_cols, 1)\n",
    "    input_shape = (img_rows, img_cols, 1)\n",
    "\n",
    "x_train = x_train.astype('float32')\n",
    "x_test = x_test.astype('float32')\n",
    "x_train /= 255\n",
    "x_test /= 255\n",
    "print('x_train shape:', x_train.shape)\n",
    "print(x_train.shape[0], 'train samples')\n",
    "print(x_test.shape[0], 'test samples')"
   ]
  },
  {
   "cell_type": "code",
   "execution_count": 35,
   "metadata": {},
   "outputs": [
    {
     "name": "stdout",
     "output_type": "stream",
     "text": [
      "Epoch 1/12\n",
      "  4/469 [..............................] - ETA: 8s - loss: 2.3186 - accuracy: 0.0664  "
     ]
    },
    {
     "name": "stderr",
     "output_type": "stream",
     "text": [
      "2022-04-16 16:25:12.530003: I tensorflow/core/grappler/optimizers/custom_graph_optimizer_registry.cc:113] Plugin optimizer for device_type GPU is enabled.\n"
     ]
    },
    {
     "name": "stdout",
     "output_type": "stream",
     "text": [
      "469/469 [==============================] - ETA: 0s - loss: 1.1335 - accuracy: 0.6622"
     ]
    },
    {
     "name": "stderr",
     "output_type": "stream",
     "text": [
      "2022-04-16 16:25:19.319002: I tensorflow/core/grappler/optimizers/custom_graph_optimizer_registry.cc:113] Plugin optimizer for device_type GPU is enabled.\n"
     ]
    },
    {
     "name": "stdout",
     "output_type": "stream",
     "text": [
      "469/469 [==============================] - 8s 16ms/step - loss: 1.1335 - accuracy: 0.6622 - val_loss: 0.3828 - val_accuracy: 0.8912\n",
      "Epoch 2/12\n",
      "469/469 [==============================] - 7s 16ms/step - loss: 0.4369 - accuracy: 0.8701 - val_loss: 0.2805 - val_accuracy: 0.9201\n",
      "Epoch 3/12\n",
      "469/469 [==============================] - 7s 16ms/step - loss: 0.3508 - accuracy: 0.8972 - val_loss: 0.2400 - val_accuracy: 0.9308\n",
      "Epoch 4/12\n",
      "469/469 [==============================] - 7s 16ms/step - loss: 0.3048 - accuracy: 0.9115 - val_loss: 0.2093 - val_accuracy: 0.9375\n",
      "Epoch 5/12\n",
      "469/469 [==============================] - 7s 16ms/step - loss: 0.2722 - accuracy: 0.9202 - val_loss: 0.1857 - val_accuracy: 0.9452\n",
      "Epoch 6/12\n",
      "469/469 [==============================] - 7s 16ms/step - loss: 0.2442 - accuracy: 0.9286 - val_loss: 0.1661 - val_accuracy: 0.9505\n",
      "Epoch 7/12\n",
      "469/469 [==============================] - 7s 16ms/step - loss: 0.2260 - accuracy: 0.9337 - val_loss: 0.1526 - val_accuracy: 0.9558\n",
      "Epoch 8/12\n",
      "469/469 [==============================] - 7s 16ms/step - loss: 0.2084 - accuracy: 0.9390 - val_loss: 0.1386 - val_accuracy: 0.9604\n",
      "Epoch 9/12\n",
      "469/469 [==============================] - 7s 16ms/step - loss: 0.1888 - accuracy: 0.9433 - val_loss: 0.1298 - val_accuracy: 0.9621\n",
      "Epoch 10/12\n",
      "469/469 [==============================] - 7s 16ms/step - loss: 0.1783 - accuracy: 0.9472 - val_loss: 0.1196 - val_accuracy: 0.9645\n",
      "Epoch 11/12\n",
      "469/469 [==============================] - 7s 16ms/step - loss: 0.1681 - accuracy: 0.9509 - val_loss: 0.1119 - val_accuracy: 0.9662\n",
      "Epoch 12/12\n",
      "469/469 [==============================] - 7s 16ms/step - loss: 0.1566 - accuracy: 0.9548 - val_loss: 0.1058 - val_accuracy: 0.9685\n",
      "Epoch 1/12\n",
      "  5/469 [..............................] - ETA: 7s - loss: 2.3132 - accuracy: 0.0906  "
     ]
    },
    {
     "name": "stderr",
     "output_type": "stream",
     "text": [
      "2022-04-16 16:26:44.167334: I tensorflow/core/grappler/optimizers/custom_graph_optimizer_registry.cc:113] Plugin optimizer for device_type GPU is enabled.\n"
     ]
    },
    {
     "name": "stdout",
     "output_type": "stream",
     "text": [
      "469/469 [==============================] - ETA: 0s - loss: 1.1695 - accuracy: 0.6475"
     ]
    },
    {
     "name": "stderr",
     "output_type": "stream",
     "text": [
      "2022-04-16 16:26:51.095922: I tensorflow/core/grappler/optimizers/custom_graph_optimizer_registry.cc:113] Plugin optimizer for device_type GPU is enabled.\n"
     ]
    },
    {
     "name": "stdout",
     "output_type": "stream",
     "text": [
      "469/469 [==============================] - 8s 16ms/step - loss: 1.1695 - accuracy: 0.6475 - val_loss: 0.3950 - val_accuracy: 0.8915\n",
      "Epoch 2/12\n",
      "469/469 [==============================] - 8s 16ms/step - loss: 0.4513 - accuracy: 0.8668 - val_loss: 0.2965 - val_accuracy: 0.9160\n",
      "Epoch 3/12\n",
      "469/469 [==============================] - 7s 16ms/step - loss: 0.3676 - accuracy: 0.8922 - val_loss: 0.2506 - val_accuracy: 0.9268\n",
      "Epoch 4/12\n",
      "469/469 [==============================] - 7s 16ms/step - loss: 0.3187 - accuracy: 0.9068 - val_loss: 0.2184 - val_accuracy: 0.9338\n",
      "Epoch 5/12\n",
      "469/469 [==============================] - 8s 16ms/step - loss: 0.2876 - accuracy: 0.9159 - val_loss: 0.2008 - val_accuracy: 0.9397\n",
      "Epoch 6/12\n",
      "469/469 [==============================] - 8s 16ms/step - loss: 0.2636 - accuracy: 0.9222 - val_loss: 0.1831 - val_accuracy: 0.9451\n",
      "Epoch 7/12\n",
      "469/469 [==============================] - 8s 17ms/step - loss: 0.2405 - accuracy: 0.9293 - val_loss: 0.1624 - val_accuracy: 0.9522\n",
      "Epoch 8/12\n",
      "469/469 [==============================] - 7s 16ms/step - loss: 0.2209 - accuracy: 0.9342 - val_loss: 0.1518 - val_accuracy: 0.9547\n",
      "Epoch 9/12\n",
      "469/469 [==============================] - 8s 16ms/step - loss: 0.2056 - accuracy: 0.9405 - val_loss: 0.1406 - val_accuracy: 0.9591\n",
      "Epoch 10/12\n",
      "469/469 [==============================] - 8s 17ms/step - loss: 0.1897 - accuracy: 0.9439 - val_loss: 0.1302 - val_accuracy: 0.9607\n",
      "Epoch 11/12\n",
      "469/469 [==============================] - 8s 16ms/step - loss: 0.1763 - accuracy: 0.9488 - val_loss: 0.1201 - val_accuracy: 0.9632\n",
      "Epoch 12/12\n",
      "469/469 [==============================] - 8s 16ms/step - loss: 0.1662 - accuracy: 0.9512 - val_loss: 0.1116 - val_accuracy: 0.9669\n",
      "Epoch 1/12\n",
      "  4/469 [..............................] - ETA: 8s - loss: 2.3314 - accuracy: 0.0879  "
     ]
    },
    {
     "name": "stderr",
     "output_type": "stream",
     "text": [
      "2022-04-16 16:28:18.812682: I tensorflow/core/grappler/optimizers/custom_graph_optimizer_registry.cc:113] Plugin optimizer for device_type GPU is enabled.\n"
     ]
    },
    {
     "name": "stdout",
     "output_type": "stream",
     "text": [
      "469/469 [==============================] - ETA: 0s - loss: 1.5199 - accuracy: 0.5147"
     ]
    },
    {
     "name": "stderr",
     "output_type": "stream",
     "text": [
      "2022-04-16 16:28:25.821277: I tensorflow/core/grappler/optimizers/custom_graph_optimizer_registry.cc:113] Plugin optimizer for device_type GPU is enabled.\n"
     ]
    },
    {
     "name": "stdout",
     "output_type": "stream",
     "text": [
      "469/469 [==============================] - 8s 16ms/step - loss: 1.5199 - accuracy: 0.5147 - val_loss: 0.6070 - val_accuracy: 0.8233\n",
      "Epoch 2/12\n",
      "469/469 [==============================] - 8s 17ms/step - loss: 0.6624 - accuracy: 0.7956 - val_loss: 0.4572 - val_accuracy: 0.8593\n",
      "Epoch 3/12\n",
      "469/469 [==============================] - 8s 17ms/step - loss: 0.5601 - accuracy: 0.8264 - val_loss: 0.4132 - val_accuracy: 0.8724\n",
      "Epoch 4/12\n",
      "469/469 [==============================] - 8s 17ms/step - loss: 0.5127 - accuracy: 0.8417 - val_loss: 0.3874 - val_accuracy: 0.8817\n",
      "Epoch 5/12\n",
      "469/469 [==============================] - 8s 17ms/step - loss: 0.4790 - accuracy: 0.8527 - val_loss: 0.3595 - val_accuracy: 0.8878\n",
      "Epoch 6/12\n",
      "469/469 [==============================] - 8s 16ms/step - loss: 0.4517 - accuracy: 0.8598 - val_loss: 0.3421 - val_accuracy: 0.8938\n",
      "Epoch 7/12\n",
      "469/469 [==============================] - 7s 16ms/step - loss: 0.4234 - accuracy: 0.8696 - val_loss: 0.3196 - val_accuracy: 0.9011\n",
      "Epoch 8/12\n",
      "469/469 [==============================] - 7s 16ms/step - loss: 0.4033 - accuracy: 0.8757 - val_loss: 0.3027 - val_accuracy: 0.9076\n",
      "Epoch 9/12\n",
      "469/469 [==============================] - 7s 16ms/step - loss: 0.3829 - accuracy: 0.8815 - val_loss: 0.2861 - val_accuracy: 0.9114\n",
      "Epoch 10/12\n",
      "469/469 [==============================] - 7s 16ms/step - loss: 0.3654 - accuracy: 0.8872 - val_loss: 0.2709 - val_accuracy: 0.9165\n",
      "Epoch 11/12\n",
      "469/469 [==============================] - 7s 16ms/step - loss: 0.3462 - accuracy: 0.8928 - val_loss: 0.2615 - val_accuracy: 0.9196\n",
      "Epoch 12/12\n",
      "469/469 [==============================] - 7s 16ms/step - loss: 0.3301 - accuracy: 0.8986 - val_loss: 0.2459 - val_accuracy: 0.9247\n",
      "Epoch 1/12\n",
      "  5/469 [..............................] - ETA: 7s - loss: 2.3436 - accuracy: 0.1047  "
     ]
    },
    {
     "name": "stderr",
     "output_type": "stream",
     "text": [
      "2022-04-16 16:29:53.539605: I tensorflow/core/grappler/optimizers/custom_graph_optimizer_registry.cc:113] Plugin optimizer for device_type GPU is enabled.\n"
     ]
    },
    {
     "name": "stdout",
     "output_type": "stream",
     "text": [
      "468/469 [============================>.] - ETA: 0s - loss: 1.9407 - accuracy: 0.3327"
     ]
    },
    {
     "name": "stderr",
     "output_type": "stream",
     "text": [
      "2022-04-16 16:30:00.331350: I tensorflow/core/grappler/optimizers/custom_graph_optimizer_registry.cc:113] Plugin optimizer for device_type GPU is enabled.\n"
     ]
    },
    {
     "name": "stdout",
     "output_type": "stream",
     "text": [
      "469/469 [==============================] - 8s 16ms/step - loss: 1.9401 - accuracy: 0.3330 - val_loss: 1.1473 - val_accuracy: 0.6779\n",
      "Epoch 2/12\n",
      "469/469 [==============================] - 7s 16ms/step - loss: 1.1109 - accuracy: 0.6371 - val_loss: 0.8459 - val_accuracy: 0.7333\n",
      "Epoch 3/12\n",
      "469/469 [==============================] - 7s 16ms/step - loss: 0.9684 - accuracy: 0.6820 - val_loss: 0.8114 - val_accuracy: 0.7322\n",
      "Epoch 4/12\n",
      "469/469 [==============================] - 7s 16ms/step - loss: 0.9169 - accuracy: 0.6983 - val_loss: 0.7691 - val_accuracy: 0.7492\n",
      "Epoch 5/12\n",
      "469/469 [==============================] - 7s 16ms/step - loss: 0.8857 - accuracy: 0.7097 - val_loss: 0.7467 - val_accuracy: 0.7580\n",
      "Epoch 6/12\n",
      "469/469 [==============================] - 7s 16ms/step - loss: 0.8590 - accuracy: 0.7185 - val_loss: 0.7333 - val_accuracy: 0.7635\n",
      "Epoch 7/12\n",
      "469/469 [==============================] - 8s 16ms/step - loss: 0.8407 - accuracy: 0.7252 - val_loss: 0.7169 - val_accuracy: 0.7674\n",
      "Epoch 8/12\n",
      "469/469 [==============================] - 7s 16ms/step - loss: 0.8165 - accuracy: 0.7321 - val_loss: 0.6955 - val_accuracy: 0.7739\n",
      "Epoch 9/12\n",
      "469/469 [==============================] - 7s 16ms/step - loss: 0.7977 - accuracy: 0.7384 - val_loss: 0.6877 - val_accuracy: 0.7788\n",
      "Epoch 10/12\n",
      "469/469 [==============================] - 7s 16ms/step - loss: 0.7792 - accuracy: 0.7456 - val_loss: 0.6781 - val_accuracy: 0.7796\n",
      "Epoch 11/12\n",
      "469/469 [==============================] - 7s 16ms/step - loss: 0.7649 - accuracy: 0.7497 - val_loss: 0.6571 - val_accuracy: 0.7868\n",
      "Epoch 12/12\n",
      "469/469 [==============================] - 7s 16ms/step - loss: 0.7515 - accuracy: 0.7549 - val_loss: 0.6456 - val_accuracy: 0.7913\n",
      "Epoch 1/12\n",
      "  5/469 [..............................] - ETA: 7s - loss: 2.4682 - accuracy: 0.0922  "
     ]
    },
    {
     "name": "stderr",
     "output_type": "stream",
     "text": [
      "2022-04-16 16:31:25.547726: I tensorflow/core/grappler/optimizers/custom_graph_optimizer_registry.cc:113] Plugin optimizer for device_type GPU is enabled.\n"
     ]
    },
    {
     "name": "stdout",
     "output_type": "stream",
     "text": [
      "469/469 [==============================] - ETA: 0s - loss: 2.2926 - accuracy: 0.1303"
     ]
    },
    {
     "name": "stderr",
     "output_type": "stream",
     "text": [
      "2022-04-16 16:31:32.258375: I tensorflow/core/grappler/optimizers/custom_graph_optimizer_registry.cc:113] Plugin optimizer for device_type GPU is enabled.\n"
     ]
    },
    {
     "name": "stdout",
     "output_type": "stream",
     "text": [
      "469/469 [==============================] - 8s 16ms/step - loss: 2.2926 - accuracy: 0.1303 - val_loss: 2.2021 - val_accuracy: 0.2504\n",
      "Epoch 2/12\n",
      "469/469 [==============================] - 7s 15ms/step - loss: 2.0575 - accuracy: 0.2728 - val_loss: 1.7545 - val_accuracy: 0.4401\n",
      "Epoch 3/12\n",
      "469/469 [==============================] - 7s 16ms/step - loss: 1.7750 - accuracy: 0.3840 - val_loss: 1.5797 - val_accuracy: 0.4649\n",
      "Epoch 4/12\n",
      "469/469 [==============================] - 8s 16ms/step - loss: 1.6762 - accuracy: 0.4217 - val_loss: 1.5322 - val_accuracy: 0.4781\n",
      "Epoch 5/12\n",
      "469/469 [==============================] - 7s 16ms/step - loss: 1.6387 - accuracy: 0.4365 - val_loss: 1.5031 - val_accuracy: 0.4869\n",
      "Epoch 6/12\n",
      "469/469 [==============================] - 7s 16ms/step - loss: 1.6112 - accuracy: 0.4470 - val_loss: 1.4892 - val_accuracy: 0.4910\n",
      "Epoch 7/12\n",
      "469/469 [==============================] - 7s 16ms/step - loss: 1.5915 - accuracy: 0.4535 - val_loss: 1.4791 - val_accuracy: 0.4923\n",
      "Epoch 8/12\n",
      "469/469 [==============================] - 7s 16ms/step - loss: 1.5780 - accuracy: 0.4600 - val_loss: 1.4752 - val_accuracy: 0.4944\n",
      "Epoch 9/12\n",
      "469/469 [==============================] - 7s 16ms/step - loss: 1.5648 - accuracy: 0.4638 - val_loss: 1.4684 - val_accuracy: 0.4958\n",
      "Epoch 10/12\n",
      "469/469 [==============================] - 7s 16ms/step - loss: 1.5518 - accuracy: 0.4680 - val_loss: 1.4599 - val_accuracy: 0.4972\n",
      "Epoch 11/12\n",
      "469/469 [==============================] - 8s 16ms/step - loss: 1.5428 - accuracy: 0.4724 - val_loss: 1.4551 - val_accuracy: 0.4995\n",
      "Epoch 12/12\n",
      "469/469 [==============================] - 7s 16ms/step - loss: 1.5318 - accuracy: 0.4753 - val_loss: 1.4562 - val_accuracy: 0.4974\n",
      "Epoch 1/12\n",
      "  4/469 [..............................] - ETA: 8s - loss: 2.8334 - accuracy: 0.1016  "
     ]
    },
    {
     "name": "stderr",
     "output_type": "stream",
     "text": [
      "2022-04-16 16:32:57.642449: I tensorflow/core/grappler/optimizers/custom_graph_optimizer_registry.cc:113] Plugin optimizer for device_type GPU is enabled.\n"
     ]
    },
    {
     "name": "stdout",
     "output_type": "stream",
     "text": [
      "469/469 [==============================] - ETA: 0s - loss: 2.3254 - accuracy: 0.1046"
     ]
    },
    {
     "name": "stderr",
     "output_type": "stream",
     "text": [
      "2022-04-16 16:33:05.028095: I tensorflow/core/grappler/optimizers/custom_graph_optimizer_registry.cc:113] Plugin optimizer for device_type GPU is enabled.\n"
     ]
    },
    {
     "name": "stdout",
     "output_type": "stream",
     "text": [
      "469/469 [==============================] - 8s 17ms/step - loss: 2.3254 - accuracy: 0.1046 - val_loss: 2.3014 - val_accuracy: 0.1159\n",
      "Epoch 2/12\n",
      "469/469 [==============================] - 7s 15ms/step - loss: 2.3029 - accuracy: 0.1095 - val_loss: 2.3024 - val_accuracy: 0.1126\n",
      "Epoch 3/12\n",
      "469/469 [==============================] - 7s 16ms/step - loss: 2.3023 - accuracy: 0.1100 - val_loss: 2.3020 - val_accuracy: 0.1131\n",
      "Epoch 4/12\n",
      "469/469 [==============================] - 7s 15ms/step - loss: 2.3021 - accuracy: 0.1099 - val_loss: 2.3012 - val_accuracy: 0.1161\n",
      "Epoch 5/12\n",
      "469/469 [==============================] - 7s 16ms/step - loss: 2.3001 - accuracy: 0.1120 - val_loss: 2.2982 - val_accuracy: 0.1242\n",
      "Epoch 6/12\n",
      "469/469 [==============================] - 8s 16ms/step - loss: 2.2953 - accuracy: 0.1167 - val_loss: 2.2856 - val_accuracy: 0.1294\n",
      "Epoch 7/12\n",
      "469/469 [==============================] - 7s 16ms/step - loss: 2.2838 - accuracy: 0.1324 - val_loss: 2.2635 - val_accuracy: 0.1711\n",
      "Epoch 8/12\n",
      "469/469 [==============================] - 7s 16ms/step - loss: 2.2645 - accuracy: 0.1521 - val_loss: 2.2375 - val_accuracy: 0.1925\n",
      "Epoch 9/12\n",
      "469/469 [==============================] - 7s 16ms/step - loss: 2.2396 - accuracy: 0.1696 - val_loss: 2.1922 - val_accuracy: 0.2220\n",
      "Epoch 10/12\n",
      "469/469 [==============================] - 8s 16ms/step - loss: 2.2088 - accuracy: 0.1894 - val_loss: 2.1569 - val_accuracy: 0.2413\n",
      "Epoch 11/12\n",
      "469/469 [==============================] - 8s 16ms/step - loss: 2.1826 - accuracy: 0.2022 - val_loss: 2.1273 - val_accuracy: 0.2510\n",
      "Epoch 12/12\n",
      "469/469 [==============================] - 8s 16ms/step - loss: 2.1604 - accuracy: 0.2174 - val_loss: 2.1153 - val_accuracy: 0.2570\n"
     ]
    }
   ],
   "source": [
    "# Noise 0 to 4.0\n",
    "\n",
    "scales = [0, .1, .5, 1.0, 2.0, 4.0]\n",
    "train_acc = []\n",
    "test_acc = []\n",
    "\n",
    "batch_size = 128\n",
    "num_classes = 10\n",
    "epochs = 12\n",
    "\n",
    "# convert class vectors to binary class matrices\n",
    "y_train = tf.keras.utils.to_categorical(y_train, num_classes)\n",
    "y_test = tf.keras.utils.to_categorical(y_test, num_classes)\n",
    "\n",
    "\n",
    "for scale in scales:\n",
    "    x_train_noise = x_train + np.random.normal(scale = scale, size=x_train.shape)\n",
    "    x_test_noise = x_test + np.random.normal(scale = scale, size=x_test.shape)\n",
    "\n",
    "    model = Sequential()\n",
    "    model.add(Conv2D(32, kernel_size=(3, 3),\n",
    "                     activation='relu',\n",
    "                     input_shape=input_shape))\n",
    "    model.add(Conv2D(64, (3, 3), activation='relu'))\n",
    "    model.add(MaxPooling2D(pool_size=(2, 2)))\n",
    "    model.add(Dropout(0.25))\n",
    "    model.add(Flatten())\n",
    "    model.add(Dense(128, activation='relu'))\n",
    "    model.add(Dropout(0.5))\n",
    "    model.add(Dense(num_classes, activation='softmax'))\n",
    "\n",
    "    model.compile(loss=keras.losses.categorical_crossentropy,\n",
    "                  optimizer=tf.keras.optimizers.Adadelta(learning_rate = 0.02),\n",
    "                  metrics=['accuracy'])\n",
    "\n",
    "    history = model.fit(x_train_noise, y_train,\n",
    "                        batch_size = batch_size,\n",
    "                        epochs = epochs,\n",
    "                        verbose = 1,\n",
    "                        validation_data = (x_test_noise, y_test))\n",
    "    \n",
    "    score = model.evaluate(x_test_noise, y_test, verbose=0)\n",
    "    \n",
    "    train_acc.append(history.history['accuracy'][-1])\n",
    "    test_acc.append(score[1])"
   ]
  },
  {
   "cell_type": "code",
   "execution_count": 37,
   "metadata": {},
   "outputs": [
    {
     "data": {
      "image/png": "[encoded data removed]",
      "text/plain": [
       "<Figure size 432x288 with 1 Axes>"
      ]
     },
     "metadata": {
      "needs_background": "light"
     },
     "output_type": "display_data"
    }
   ],
   "source": [
    "plt.figure()\n",
    "plt.plot(scales, train_acc, label = 'ConvNet Train', c = \"purple\")\n",
    "plt.plot(scales, test_acc, label = 'ConvNet Test', c = \"green\")\n",
    "plt.xlabel('Scale')\n",
    "plt.ylabel('Accuracy')\n",
    "plt.title('Accuracy of Conv Net Model With Increasing Noise')\n",
    "plt.legend()\n",
    "plt.show()"
   ]
  },
  {
   "cell_type": "code",
   "execution_count": null,
   "metadata": {},
   "outputs": [],
   "source": [
    "perceptron_test = \n",
    "perceptron_train = "
   ]
  }
 ],
 "metadata": {
  "kernelspec": {
   "display_name": "Python 3 (ipykernel)",
   "language": "python",
   "name": "python3"
  },
  "language_info": {
   "codemirror_mode": {
    "name": "ipython",
    "version": 3
   },
   "file_extension": ".py",
   "mimetype": "text/x-python",
   "name": "python",
   "nbconvert_exporter": "python",
   "pygments_lexer": "ipython3",
   "version": "3.9.10"
  }
 },
 "nbformat": 4,
 "nbformat_minor": 2
}
